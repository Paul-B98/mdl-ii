{
 "cells": [
  {
   "cell_type": "code",
   "execution_count": 12,
   "metadata": {},
   "outputs": [
    {
     "name": "stderr",
     "output_type": "stream",
     "text": [
      "/home/paul/.conda/envs/tf/lib/python3.10/site-packages/requests/__init__.py:109: RequestsDependencyWarning: urllib3 (1.26.15) or chardet (None)/charset_normalizer (3.1.0) doesn't match a supported version!\n",
      "  warnings.warn(\n"
     ]
    }
   ],
   "source": [
    "import pandas as pd\n",
    "\n",
    "from pathlib import Path\n",
    "from datasets import load_dataset"
   ]
  },
  {
   "cell_type": "code",
   "execution_count": 13,
   "metadata": {},
   "outputs": [],
   "source": [
    "root_dir = Path.cwd()"
   ]
  },
  {
   "cell_type": "code",
   "execution_count": 19,
   "metadata": {},
   "outputs": [
    {
     "name": "stdout",
     "output_type": "stream",
     "text": [
      "Downloading and preparing dataset json/default to /home/paul/projects/edu/master/mdl-ii/src/data/cache/json/default-a344fc8bdfa01104/0.0.0/e347ab1c932092252e717ff3f949105a4dd28b27e842dd53157d2f72e276c2e4...\n"
     ]
    },
    {
     "data": {
      "application/vnd.jupyter.widget-view+json": {
       "model_id": "64210cd8245348dc87a42ef129220794",
       "version_major": 2,
       "version_minor": 0
      },
      "text/plain": [
       "Downloading data files:   0%|          | 0/3 [00:00<?, ?it/s]"
      ]
     },
     "metadata": {},
     "output_type": "display_data"
    },
    {
     "data": {
      "application/vnd.jupyter.widget-view+json": {
       "model_id": "e952e87673ca49d0bb93c42210efa17b",
       "version_major": 2,
       "version_minor": 0
      },
      "text/plain": [
       "Extracting data files:   0%|          | 0/3 [00:00<?, ?it/s]"
      ]
     },
     "metadata": {},
     "output_type": "display_data"
    },
    {
     "data": {
      "application/vnd.jupyter.widget-view+json": {
       "model_id": "f53de91e42c041b1800a1e55ca12f35a",
       "version_major": 2,
       "version_minor": 0
      },
      "text/plain": [
       "Generating train split: 0 examples [00:00, ? examples/s]"
      ]
     },
     "metadata": {},
     "output_type": "display_data"
    },
    {
     "data": {
      "application/vnd.jupyter.widget-view+json": {
       "model_id": "ad991f4ad78746e598c622e827cff8b5",
       "version_major": 2,
       "version_minor": 0
      },
      "text/plain": [
       "Generating test split: 0 examples [00:00, ? examples/s]"
      ]
     },
     "metadata": {},
     "output_type": "display_data"
    },
    {
     "data": {
      "application/vnd.jupyter.widget-view+json": {
       "model_id": "3d76f788876c4675b8f14f81456801eb",
       "version_major": 2,
       "version_minor": 0
      },
      "text/plain": [
       "Generating validation split: 0 examples [00:00, ? examples/s]"
      ]
     },
     "metadata": {},
     "output_type": "display_data"
    },
    {
     "name": "stdout",
     "output_type": "stream",
     "text": [
      "Dataset json downloaded and prepared to /home/paul/projects/edu/master/mdl-ii/src/data/cache/json/default-a344fc8bdfa01104/0.0.0/e347ab1c932092252e717ff3f949105a4dd28b27e842dd53157d2f72e276c2e4. Subsequent calls will reuse this data.\n"
     ]
    },
    {
     "data": {
      "application/vnd.jupyter.widget-view+json": {
       "model_id": "3a1ef91be1fe4cb9a7d2205822113eee",
       "version_major": 2,
       "version_minor": 0
      },
      "text/plain": [
       "  0%|          | 0/3 [00:00<?, ?it/s]"
      ]
     },
     "metadata": {},
     "output_type": "display_data"
    }
   ],
   "source": [
    "dataset = load_dataset(\"json\", data_files={\n",
    "    \"train\": str(root_dir / \"data\" / \"train.jsonl\"),\n",
    "    \"test\": str(root_dir / \"data\" / \"test.jsonl\"),\n",
    "    \"validation\": str(root_dir / \"data\" / \"validation.jsonl\")\n",
    "}, cache_dir=root_dir / \"data\" / \"cache\")"
   ]
  },
  {
   "cell_type": "code",
   "execution_count": 16,
   "metadata": {},
   "outputs": [],
   "source": [
    "dataset.set_format(type=\"pandas\")\n",
    "train_df = dataset[\"train\"][:]\n",
    "test_df = dataset[\"test\"][:]\n",
    "validation_df = dataset[\"validation\"][:]"
   ]
  },
  {
   "cell_type": "code",
   "execution_count": 18,
   "metadata": {},
   "outputs": [
    {
     "data": {
      "text/html": [
       "<div>\n",
       "<style scoped>\n",
       "    .dataframe tbody tr th:only-of-type {\n",
       "        vertical-align: middle;\n",
       "    }\n",
       "\n",
       "    .dataframe tbody tr th {\n",
       "        vertical-align: top;\n",
       "    }\n",
       "\n",
       "    .dataframe thead th {\n",
       "        text-align: right;\n",
       "    }\n",
       "</style>\n",
       "<table border=\"1\" class=\"dataframe\">\n",
       "  <thead>\n",
       "    <tr style=\"text-align: right;\">\n",
       "      <th></th>\n",
       "      <th>code</th>\n",
       "      <th>code_tokens</th>\n",
       "      <th>docstring</th>\n",
       "      <th>docstring_tokens</th>\n",
       "      <th>original_string</th>\n",
       "      <th>__index_level_0__</th>\n",
       "    </tr>\n",
       "  </thead>\n",
       "  <tbody>\n",
       "    <tr>\n",
       "      <th>0</th>\n",
       "      <td>def split_phylogeny(p, level=\"s\"):\\n    level ...</td>\n",
       "      <td>[def, split_phylogeny, (, p, ,, level, =, \"s\",...</td>\n",
       "      <td>Return either the full or truncated version of...</td>\n",
       "      <td>[Return, either, the, full, or, truncated, ver...</td>\n",
       "      <td>def split_phylogeny(p, level=\"s\"):\\n    \"\"\"\\n ...</td>\n",
       "      <td>0</td>\n",
       "    </tr>\n",
       "    <tr>\n",
       "      <th>1</th>\n",
       "      <td>def ensure_dir(d):\\n    if not os.path.exists(...</td>\n",
       "      <td>[def, ensure_dir, (, d, ), :, if, not, os, ., ...</td>\n",
       "      <td>Check to make sure the supplied directory path...</td>\n",
       "      <td>[Check, to, make, sure, the, supplied, directo...</td>\n",
       "      <td>def ensure_dir(d):\\n    \"\"\"\\n    Check to make...</td>\n",
       "      <td>1</td>\n",
       "    </tr>\n",
       "    <tr>\n",
       "      <th>2</th>\n",
       "      <td>def file_handle(fnh, mode=\"rU\"):\\n    handle =...</td>\n",
       "      <td>[def, file_handle, (, fnh, ,, mode, =, \"rU\", )...</td>\n",
       "      <td>Takes either a file path or an open file handl...</td>\n",
       "      <td>[Takes, either, a, file, path, or, an, open, f...</td>\n",
       "      <td>def file_handle(fnh, mode=\"rU\"):\\n    \"\"\"\\n   ...</td>\n",
       "      <td>2</td>\n",
       "    </tr>\n",
       "    <tr>\n",
       "      <th>3</th>\n",
       "      <td>def gather_categories(imap, header, categories...</td>\n",
       "      <td>[def, gather_categories, (, imap, ,, header, ,...</td>\n",
       "      <td>Find the user specified categories in the map ...</td>\n",
       "      <td>[Find, the, user, specified, categories, in, t...</td>\n",
       "      <td>def gather_categories(imap, header, categories...</td>\n",
       "      <td>3</td>\n",
       "    </tr>\n",
       "    <tr>\n",
       "      <th>4</th>\n",
       "      <td>def parse_unifrac(unifracFN):\\n    with open(u...</td>\n",
       "      <td>[def, parse_unifrac, (, unifracFN, ), :, with,...</td>\n",
       "      <td>Parses the unifrac results file into a diction...</td>\n",
       "      <td>[Parses, the, unifrac, results, file, into, a,...</td>\n",
       "      <td>def parse_unifrac(unifracFN):\\n    \"\"\"\\n    Pa...</td>\n",
       "      <td>4</td>\n",
       "    </tr>\n",
       "  </tbody>\n",
       "</table>\n",
       "</div>"
      ],
      "text/plain": [
       "                                                code  \\\n",
       "0  def split_phylogeny(p, level=\"s\"):\\n    level ...   \n",
       "1  def ensure_dir(d):\\n    if not os.path.exists(...   \n",
       "2  def file_handle(fnh, mode=\"rU\"):\\n    handle =...   \n",
       "3  def gather_categories(imap, header, categories...   \n",
       "4  def parse_unifrac(unifracFN):\\n    with open(u...   \n",
       "\n",
       "                                         code_tokens  \\\n",
       "0  [def, split_phylogeny, (, p, ,, level, =, \"s\",...   \n",
       "1  [def, ensure_dir, (, d, ), :, if, not, os, ., ...   \n",
       "2  [def, file_handle, (, fnh, ,, mode, =, \"rU\", )...   \n",
       "3  [def, gather_categories, (, imap, ,, header, ,...   \n",
       "4  [def, parse_unifrac, (, unifracFN, ), :, with,...   \n",
       "\n",
       "                                           docstring  \\\n",
       "0  Return either the full or truncated version of...   \n",
       "1  Check to make sure the supplied directory path...   \n",
       "2  Takes either a file path or an open file handl...   \n",
       "3  Find the user specified categories in the map ...   \n",
       "4  Parses the unifrac results file into a diction...   \n",
       "\n",
       "                                    docstring_tokens  \\\n",
       "0  [Return, either, the, full, or, truncated, ver...   \n",
       "1  [Check, to, make, sure, the, supplied, directo...   \n",
       "2  [Takes, either, a, file, path, or, an, open, f...   \n",
       "3  [Find, the, user, specified, categories, in, t...   \n",
       "4  [Parses, the, unifrac, results, file, into, a,...   \n",
       "\n",
       "                                     original_string  __index_level_0__  \n",
       "0  def split_phylogeny(p, level=\"s\"):\\n    \"\"\"\\n ...                  0  \n",
       "1  def ensure_dir(d):\\n    \"\"\"\\n    Check to make...                  1  \n",
       "2  def file_handle(fnh, mode=\"rU\"):\\n    \"\"\"\\n   ...                  2  \n",
       "3  def gather_categories(imap, header, categories...                  3  \n",
       "4  def parse_unifrac(unifracFN):\\n    \"\"\"\\n    Pa...                  4  "
      ]
     },
     "execution_count": 18,
     "metadata": {},
     "output_type": "execute_result"
    }
   ],
   "source": [
    "train_df.head()"
   ]
  },
  {
   "cell_type": "code",
   "execution_count": null,
   "metadata": {},
   "outputs": [],
   "source": []
  }
 ],
 "metadata": {
  "kernelspec": {
   "display_name": "tf",
   "language": "python",
   "name": "python3"
  },
  "language_info": {
   "codemirror_mode": {
    "name": "ipython",
    "version": 3
   },
   "file_extension": ".py",
   "mimetype": "text/x-python",
   "name": "python",
   "nbconvert_exporter": "python",
   "pygments_lexer": "ipython3",
   "version": "3.10.10"
  },
  "orig_nbformat": 4
 },
 "nbformat": 4,
 "nbformat_minor": 2
}

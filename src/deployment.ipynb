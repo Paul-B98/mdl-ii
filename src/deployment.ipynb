{
 "cells": [
  {
   "cell_type": "code",
   "execution_count": 40,
   "metadata": {},
   "outputs": [],
   "source": [
    "import ast\n",
    "import re\n",
    "import os\n",
    "import json\n",
    "\n",
    "from abc import ABC\n",
    "from pathlib import Path\n",
    "from enum import Enum, auto\n",
    "\n",
    "from codetf.models import load_model_pipeline"
   ]
  },
  {
   "cell_type": "code",
   "execution_count": 3,
   "metadata": {},
   "outputs": [],
   "source": [
    "root_dir = Path.cwd()"
   ]
  },
  {
   "cell_type": "code",
   "execution_count": 35,
   "metadata": {},
   "outputs": [],
   "source": [
    "class FileType(Enum):\n",
    "    PY = auto()\n",
    "    IPYNB = auto()\n",
    "    UNKNOWN = auto()\n",
    "\n",
    "class AbstractDocStringUtil(ABC):\n",
    "    FILETYPE: FileType = FileType.UNKNOWN\n",
    "    DEF_REGEX = re.compile(r\"(\\bdef .*\\(.*\\).*:)\")\n",
    "\n",
    "    def __init__(self, model_name: str = \"codet5\", model_type: str = \"sum_python\", task: str = \"base\") -> None:\n",
    "        super().__init__()\n",
    "\n",
    "        self._model = load_model_pipeline(model_name=model_name, task=model_type, model_type=task)\n",
    "\n",
    "    def gen_docstring(self, method: str) -> str:\n",
    "        return self._model.predict([method])\n",
    "    \n",
    "    def _get_files(self, path: Path):\n",
    "        if self.FILETYPE == FileType.UNKNOWN:\n",
    "            raise NotImplementedError()\n",
    "        \n",
    "        if self.FILETYPE == FileType.IPYNB:\n",
    "            return path.rglob(f\"*.ipynb\")\n",
    "        return path.rglob(f\"*.py\")\n",
    "    \n",
    "    def process_files(self, path: Path, inplace = False):\n",
    "        for file in self._get_files(path):\n",
    "            if inplace:\n",
    "                self._process_file(file, file)\n",
    "                continue\n",
    "\n",
    "            new_base_dir = path / \"docs\"\n",
    "            if Path(os.path.commonpath([file, new_base_dir])) == new_base_dir:\n",
    "                continue\n",
    "\n",
    "            if not new_base_dir.exists():\n",
    "                new_base_dir.mkdir()\n",
    "\n",
    "            new_path = new_base_dir / (str(file)[len(str(path)):]).lstrip(\"/\")\n",
    "            self._process_file(file, new_path)\n",
    "    \n",
    "    def _process_file(self, file: Path, ):\n",
    "        raise NotImplementedError()\n",
    "    \n",
    "    def _add_docstring(self, code: str):\n",
    "        functions = [*sorted([\n",
    "            f for f in ast.walk(ast.parse(code)) \n",
    "            if isinstance(f, ast.FunctionDef)\n",
    "        ], key=lambda f:f.lineno, reverse=True)]\n",
    "\n",
    "        c = code.split(\"\\n\")\n",
    "\n",
    "        for func in functions:\n",
    "            indent = re.search('\\S', c[func.lineno]).start()\n",
    "            docsrting = f\"\\n{' ' * indent}\".join(self.gen_docstring(ast.unparse(func)))\n",
    "            c = c[:func.lineno] + [f'{\" \" * indent}\"\"\"{docsrting}\"\"\"'] + c[func.lineno:]\n",
    "\n",
    "        return \"\\n\".join(c)"
   ]
  },
  {
   "cell_type": "code",
   "execution_count": 37,
   "metadata": {},
   "outputs": [],
   "source": [
    "class PythonFileDocStringUtil(AbstractDocStringUtil):\n",
    "    FILETYPE: FileType = FileType.PY\n",
    "\n",
    "    def _process_file(self, file: Path, new_path: Path):\n",
    "        with file.open(\"r+\") as f:\n",
    "            code = f.read()\n",
    "\n",
    "        with new_path.open(\"w\") as f:\n",
    "            f.write(self._add_docstring(code))\n",
    "\n",
    "\n",
    "py_util = PythonFileDocStringUtil()\n",
    "py_util.process_files(root_dir / \"test\")"
   ]
  },
  {
   "cell_type": "code",
   "execution_count": 48,
   "metadata": {},
   "outputs": [],
   "source": [
    "class IPYNBFileDocStringUtil(AbstractDocStringUtil):\n",
    "    FILETYPE: FileType = FileType.IPYNB\n",
    "\n",
    "    def _process_file(self, file: Path, new_path: Path):\n",
    "        with file.open(\"r+\") as f:\n",
    "            notebook = json.load(f)\n",
    "\n",
    "        for cell in notebook.get(\"cells\", []):\n",
    "            if not cell.get(\"cell_type\", \"code\") == \"code\":\n",
    "                continue\n",
    "\n",
    "            cell[\"source\"] = self._add_docstring(\"\".join(cell.get(\"source\", \"\")))\n",
    "\n",
    "        with new_path.open(\"w\") as f:\n",
    "            json.dump(notebook, f)\n",
    "    \n",
    "ipynb_util = IPYNBFileDocStringUtil()\n",
    "ipynb_util.process_files(root_dir / \"test\")"
   ]
  },
  {
   "cell_type": "code",
   "execution_count": null,
   "metadata": {},
   "outputs": [],
   "source": []
  }
 ],
 "metadata": {
  "kernelspec": {
   "display_name": "codetf",
   "language": "python",
   "name": "python3"
  },
  "language_info": {
   "codemirror_mode": {
    "name": "ipython",
    "version": 3
   },
   "file_extension": ".py",
   "mimetype": "text/x-python",
   "name": "python",
   "nbconvert_exporter": "python",
   "pygments_lexer": "ipython3",
   "version": "3.10.11"
  },
  "orig_nbformat": 4
 },
 "nbformat": 4,
 "nbformat_minor": 2
}

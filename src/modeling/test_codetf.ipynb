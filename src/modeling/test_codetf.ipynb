{
 "cells": [
  {
   "cell_type": "code",
   "execution_count": null,
   "metadata": {},
   "outputs": [],
   "source": [
    "from codetf.trainer.codet5_trainer import CodeT5Seq2SeqTrainer\n",
    "from codetf.data_utility.codexglue_dataset import CodeXGLUEDataset\n",
    "from codetf.models import load_model_pipeline\n",
    "from codetf.performance.evaluation_metric import EvaluationMetric\n",
    "from codetf.data_utility.base_dataset import CustomDataset\n",
    "\n",
    "model_class = load_model_pipeline(model_name=\"codet5\", task=\"pretrained\",\n",
    "            model_type=\"plus-770M-python\", is_eval=True)\n",
    "\n",
    "dataset = CodeXGLUEDataset(tokenizer=model_class.get_tokenizer())\n",
    "train, test, validation = dataset.load(\"code-to-text\", \"python\")\n",
    "\n",
    "train_dataset= CustomDataset(train[0], train[1])\n",
    "test_dataset= CustomDataset(test[0], test[1])\n",
    "val_dataset= CustomDataset(validation[0], validation[1])\n",
    "\n",
    "evaluator = EvaluationMetric(metric=\"bleu\", tokenizer=model_class.tokenizer)\n",
    "\n",
    "# peft can be in [\"lora\", \"prefixtuning\"]\n",
    "trainer = CodeT5Seq2SeqTrainer(train_dataset=train_dataset, \n",
    "                                validation_dataset=val_dataset, \n",
    "                                peft=\"lora\",\n",
    "                                pretrained_model_or_path=model_class.get_model(),\n",
    "                                tokenizer=model_class.tokenizer)\n",
    "trainer.train()"
   ]
  },
  {
   "cell_type": "code",
   "execution_count": 1,
   "metadata": {},
   "outputs": [
    {
     "name": "stderr",
     "output_type": "stream",
     "text": [
      "/home/paul/.conda/envs/codetf/lib/python3.8/site-packages/tqdm/auto.py:22: TqdmWarning: IProgress not found. Please update jupyter and ipywidgets. See https://ipywidgets.readthedocs.io/en/stable/user_install.html\n",
      "  from .autonotebook import tqdm as notebook_tqdm\n"
     ]
    },
    {
     "name": "stdout",
     "output_type": "stream",
     "text": [
      "\n",
      "===================================BUG REPORT===================================\n",
      "Welcome to bitsandbytes. For bug reports, please run\n",
      "\n",
      "python -m bitsandbytes\n",
      "\n",
      " and submit this information together with your error trace to: https://github.com/TimDettmers/bitsandbytes/issues\n",
      "================================================================================\n",
      "bin /home/paul/.conda/envs/codetf/lib/python3.8/site-packages/bitsandbytes/libbitsandbytes_cuda118.so\n",
      "CUDA SETUP: CUDA runtime path found: /home/paul/.conda/envs/tf/lib/libcudart.so\n",
      "CUDA SETUP: Highest compute capability among GPUs detected: 8.9\n",
      "CUDA SETUP: Detected CUDA version 118\n",
      "CUDA SETUP: Loading binary /home/paul/.conda/envs/codetf/lib/python3.8/site-packages/bitsandbytes/libbitsandbytes_cuda118.so...\n"
     ]
    },
    {
     "name": "stderr",
     "output_type": "stream",
     "text": [
      "/home/paul/.conda/envs/codetf/lib/python3.8/site-packages/bitsandbytes/cuda_setup/main.py:149: UserWarning: /home/paul/.conda/envs/codetf did not contain ['libcudart.so', 'libcudart.so.11.0', 'libcudart.so.12.0'] as expected! Searching further paths...\n",
      "  warn(msg)\n",
      "Found cached dataset code_x_glue_ct_code_to_text (/home/paul/.cache/huggingface/datasets/code_x_glue_ct_code_to_text/python/0.0.0/5985e3a1ba00c990554612a55da81b9d370af466f2889212f79bbcf17d8a30ca)\n",
      "100%|██████████| 3/3 [00:00<00:00, 398.21it/s]\n",
      "/home/paul/.conda/envs/codetf/lib/python3.8/site-packages/peft/utils/other.py:102: FutureWarning: prepare_model_for_int8_training is deprecated and will be removed in a future version. Use prepare_model_for_kbit_training instead.\n",
      "  warnings.warn(\n"
     ]
    },
    {
     "name": "stdout",
     "output_type": "stream",
     "text": [
      "trainable params: 884,736 || all params: 223,766,784 || trainable%: 0.3953830788397978\n"
     ]
    },
    {
     "name": "stderr",
     "output_type": "stream",
     "text": [
      "/home/paul/.conda/envs/codetf/lib/python3.8/site-packages/transformers/optimization.py:411: FutureWarning: This implementation of AdamW is deprecated and will be removed in a future version. Use the PyTorch implementation torch.optim.AdamW instead, or set `no_deprecation_warning=True` to disable this warning\n",
      "  warnings.warn(\n",
      "`use_cache=True` is incompatible with gradient checkpointing. Setting `use_cache=False`...\n"
     ]
    },
    {
     "data": {
      "text/html": [
       "\n",
       "    <div>\n",
       "      \n",
       "      <progress value='5' max='78690' style='width:300px; height:20px; vertical-align: middle;'></progress>\n",
       "      [    5/78690 00:08 < 60:32:30, 0.36 it/s, Epoch 0.00/10]\n",
       "    </div>\n",
       "    <table border=\"1\" class=\"dataframe\">\n",
       "  <thead>\n",
       " <tr style=\"text-align: left;\">\n",
       "      <th>Epoch</th>\n",
       "      <th>Training Loss</th>\n",
       "      <th>Validation Loss</th>\n",
       "    </tr>\n",
       "  </thead>\n",
       "  <tbody>\n",
       "  </tbody>\n",
       "</table><p>"
      ],
      "text/plain": [
       "<IPython.core.display.HTML object>"
      ]
     },
     "metadata": {},
     "output_type": "display_data"
    },
    {
     "ename": "KeyboardInterrupt",
     "evalue": "",
     "output_type": "error",
     "traceback": [
      "\u001b[0;31m---------------------------------------------------------------------------\u001b[0m",
      "\u001b[0;31mKeyboardInterrupt\u001b[0m                         Traceback (most recent call last)",
      "Cell \u001b[0;32mIn[1], line 25\u001b[0m\n\u001b[1;32m     19\u001b[0m \u001b[39m# peft can be in [\"lora\", \"prefixtuning\"]\u001b[39;00m\n\u001b[1;32m     20\u001b[0m trainer \u001b[39m=\u001b[39m CodeT5Seq2SeqTrainer(train_dataset\u001b[39m=\u001b[39mtrain_dataset, \n\u001b[1;32m     21\u001b[0m                                 validation_dataset\u001b[39m=\u001b[39mval_dataset, \n\u001b[1;32m     22\u001b[0m                                 peft\u001b[39m=\u001b[39m\u001b[39m\"\u001b[39m\u001b[39mlora\u001b[39m\u001b[39m\"\u001b[39m,\n\u001b[1;32m     23\u001b[0m                                 pretrained_model_or_path\u001b[39m=\u001b[39mmodel_class\u001b[39m.\u001b[39mget_model(),\n\u001b[1;32m     24\u001b[0m                                 tokenizer\u001b[39m=\u001b[39mmodel_class\u001b[39m.\u001b[39mtokenizer)\n\u001b[0;32m---> 25\u001b[0m trainer\u001b[39m.\u001b[39;49mtrain()\n",
      "File \u001b[0;32m~/projects/edu/master/CodeTF/codetf/trainer/base_trainer.py:54\u001b[0m, in \u001b[0;36mBaseTrainer.train\u001b[0;34m(self)\u001b[0m\n\u001b[1;32m     53\u001b[0m \u001b[39mdef\u001b[39;00m \u001b[39mtrain\u001b[39m(\u001b[39mself\u001b[39m):\n\u001b[0;32m---> 54\u001b[0m     \u001b[39mself\u001b[39;49m\u001b[39m.\u001b[39;49mtrainer\u001b[39m.\u001b[39;49mtrain()\n",
      "File \u001b[0;32m~/.conda/envs/codetf/lib/python3.8/site-packages/transformers/trainer.py:1545\u001b[0m, in \u001b[0;36mTrainer.train\u001b[0;34m(self, resume_from_checkpoint, trial, ignore_keys_for_eval, **kwargs)\u001b[0m\n\u001b[1;32m   1540\u001b[0m     \u001b[39mself\u001b[39m\u001b[39m.\u001b[39mmodel_wrapped \u001b[39m=\u001b[39m \u001b[39mself\u001b[39m\u001b[39m.\u001b[39mmodel\n\u001b[1;32m   1542\u001b[0m inner_training_loop \u001b[39m=\u001b[39m find_executable_batch_size(\n\u001b[1;32m   1543\u001b[0m     \u001b[39mself\u001b[39m\u001b[39m.\u001b[39m_inner_training_loop, \u001b[39mself\u001b[39m\u001b[39m.\u001b[39m_train_batch_size, args\u001b[39m.\u001b[39mauto_find_batch_size\n\u001b[1;32m   1544\u001b[0m )\n\u001b[0;32m-> 1545\u001b[0m \u001b[39mreturn\u001b[39;00m inner_training_loop(\n\u001b[1;32m   1546\u001b[0m     args\u001b[39m=\u001b[39;49margs,\n\u001b[1;32m   1547\u001b[0m     resume_from_checkpoint\u001b[39m=\u001b[39;49mresume_from_checkpoint,\n\u001b[1;32m   1548\u001b[0m     trial\u001b[39m=\u001b[39;49mtrial,\n\u001b[1;32m   1549\u001b[0m     ignore_keys_for_eval\u001b[39m=\u001b[39;49mignore_keys_for_eval,\n\u001b[1;32m   1550\u001b[0m )\n",
      "File \u001b[0;32m~/.conda/envs/codetf/lib/python3.8/site-packages/accelerate/utils/memory.py:132\u001b[0m, in \u001b[0;36mfind_executable_batch_size.<locals>.decorator\u001b[0;34m(*args, **kwargs)\u001b[0m\n\u001b[1;32m    130\u001b[0m     \u001b[39mraise\u001b[39;00m \u001b[39mRuntimeError\u001b[39;00m(\u001b[39m\"\u001b[39m\u001b[39mNo executable batch size found, reached zero.\u001b[39m\u001b[39m\"\u001b[39m)\n\u001b[1;32m    131\u001b[0m \u001b[39mtry\u001b[39;00m:\n\u001b[0;32m--> 132\u001b[0m     \u001b[39mreturn\u001b[39;00m function(batch_size, \u001b[39m*\u001b[39;49margs, \u001b[39m*\u001b[39;49m\u001b[39m*\u001b[39;49mkwargs)\n\u001b[1;32m    133\u001b[0m \u001b[39mexcept\u001b[39;00m \u001b[39mException\u001b[39;00m \u001b[39mas\u001b[39;00m e:\n\u001b[1;32m    134\u001b[0m     \u001b[39mif\u001b[39;00m should_reduce_batch_size(e):\n",
      "File \u001b[0;32m~/.conda/envs/codetf/lib/python3.8/site-packages/transformers/trainer.py:1821\u001b[0m, in \u001b[0;36mTrainer._inner_training_loop\u001b[0;34m(self, batch_size, args, resume_from_checkpoint, trial, ignore_keys_for_eval)\u001b[0m\n\u001b[1;32m   1818\u001b[0m \u001b[39mwith\u001b[39;00m \u001b[39mself\u001b[39m\u001b[39m.\u001b[39maccelerator\u001b[39m.\u001b[39maccumulate(model):\n\u001b[1;32m   1819\u001b[0m     tr_loss_step \u001b[39m=\u001b[39m \u001b[39mself\u001b[39m\u001b[39m.\u001b[39mtraining_step(model, inputs)\n\u001b[0;32m-> 1821\u001b[0m \u001b[39mif\u001b[39;00m (\n\u001b[1;32m   1822\u001b[0m     args\u001b[39m.\u001b[39mlogging_nan_inf_filter\n\u001b[1;32m   1823\u001b[0m     \u001b[39mand\u001b[39;00m \u001b[39mnot\u001b[39;00m is_torch_tpu_available()\n\u001b[1;32m   1824\u001b[0m     \u001b[39mand\u001b[39;00m (torch\u001b[39m.\u001b[39misnan(tr_loss_step) \u001b[39mor\u001b[39;00m torch\u001b[39m.\u001b[39misinf(tr_loss_step))\n\u001b[1;32m   1825\u001b[0m ):\n\u001b[1;32m   1826\u001b[0m     \u001b[39m# if loss is nan or inf simply add the average of previous logged losses\u001b[39;00m\n\u001b[1;32m   1827\u001b[0m     tr_loss \u001b[39m+\u001b[39m\u001b[39m=\u001b[39m tr_loss \u001b[39m/\u001b[39m (\u001b[39m1\u001b[39m \u001b[39m+\u001b[39m \u001b[39mself\u001b[39m\u001b[39m.\u001b[39mstate\u001b[39m.\u001b[39mglobal_step \u001b[39m-\u001b[39m \u001b[39mself\u001b[39m\u001b[39m.\u001b[39m_globalstep_last_logged)\n\u001b[1;32m   1828\u001b[0m \u001b[39melse\u001b[39;00m:\n",
      "\u001b[0;31mKeyboardInterrupt\u001b[0m: "
     ]
    }
   ],
   "source": [
    "from codetf.trainer.codet5_trainer import CodeT5Seq2SeqTrainer\n",
    "from codetf.data_utility.codexglue_dataset import CodeXGLUEDataset\n",
    "from codetf.models import load_model_pipeline\n",
    "from codetf.performance.evaluation_metric import EvaluationMetric\n",
    "from codetf.data_utility.base_dataset import CustomDataset\n",
    "\n",
    "model_class = load_model_pipeline(model_name=\"codet5\", task=\"sum_python\",\n",
    "            model_type=\"base\", is_eval=True)\n",
    "\n",
    "dataset = CodeXGLUEDataset(tokenizer=model_class.get_tokenizer())\n",
    "train, test, validation = dataset.load(\"code-to-text\", \"python\")\n",
    "\n",
    "train_dataset= CustomDataset(train[0], train[1])\n",
    "test_dataset= CustomDataset(test[0], test[1])\n",
    "val_dataset= CustomDataset(validation[0], validation[1])\n",
    "\n",
    "evaluator = EvaluationMetric(metric=\"bleu\", tokenizer=model_class.tokenizer)\n",
    "\n",
    "# peft can be in [\"lora\", \"prefixtuning\"]\n",
    "trainer = CodeT5Seq2SeqTrainer(train_dataset=train_dataset, \n",
    "                                validation_dataset=val_dataset, \n",
    "                                peft=\"lora\",\n",
    "                                pretrained_model_or_path=model_class.get_model(),\n",
    "                                tokenizer=model_class.tokenizer)\n",
    "trainer.train()"
   ]
  },
  {
   "cell_type": "code",
   "execution_count": null,
   "metadata": {},
   "outputs": [],
   "source": [
    "from codetf.trainer.codet5_trainer import CodeT5Seq2SeqTrainer\n",
    "from codetf.data_utility.codexglue_dataset import CodeXGLUEDataset\n",
    "from codetf.models import load_model_pipeline\n",
    "from codetf.performance.evaluation_metric import EvaluationMetric\n",
    "from codetf.data_utility.base_dataset import CustomDataset\n",
    "\n",
    "model_class = load_model_pipeline(model_name=\"codet5\", task=\"sum_python\",\n",
    "            model_type=\"base\", is_eval=True)\n",
    "\n",
    "dataset = CodeXGLUEDataset(tokenizer=model_class.get_tokenizer())\n",
    "train, test, validation = dataset.load(\"code-to-text\", \"python\")\n",
    "\n",
    "train_dataset= CustomDataset(train[0], train[1])\n",
    "test_dataset= CustomDataset(test[0], test[1])\n",
    "val_dataset= CustomDataset(validation[0], validation[1])\n",
    "\n",
    "evaluator = EvaluationMetric(metric=\"bleu\", tokenizer=model_class.tokenizer)\n",
    "\n"
   ]
  },
  {
   "cell_type": "code",
   "execution_count": 2,
   "metadata": {},
   "outputs": [
    {
     "ename": "AttributeError",
     "evalue": "module 'codetf' has no attribute 'version'",
     "output_type": "error",
     "traceback": [
      "\u001b[0;31m---------------------------------------------------------------------------\u001b[0m",
      "\u001b[0;31mAttributeError\u001b[0m                            Traceback (most recent call last)",
      "Cell \u001b[0;32mIn[2], line 2\u001b[0m\n\u001b[1;32m      1\u001b[0m \u001b[39mimport\u001b[39;00m \u001b[39mcodetf\u001b[39;00m\n\u001b[0;32m----> 2\u001b[0m \u001b[39mprint\u001b[39m(codetf\u001b[39m.\u001b[39;49mversion)\n",
      "\u001b[0;31mAttributeError\u001b[0m: module 'codetf' has no attribute 'version'"
     ]
    }
   ],
   "source": []
  }
 ],
 "metadata": {
  "kernelspec": {
   "display_name": "tf",
   "language": "python",
   "name": "python3"
  },
  "language_info": {
   "codemirror_mode": {
    "name": "ipython",
    "version": 3
   },
   "file_extension": ".py",
   "mimetype": "text/x-python",
   "name": "python",
   "nbconvert_exporter": "python",
   "pygments_lexer": "ipython3",
   "version": "3.8.16"
  },
  "orig_nbformat": 4
 },
 "nbformat": 4,
 "nbformat_minor": 2
}

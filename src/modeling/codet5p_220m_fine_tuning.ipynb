{
  "cells": [
    {
      "cell_type": "code",
      "source": [
        "from pathlib import Path\n",
        "\n",
        "from datasets import load_dataset\n",
        "from transformers import AutoModelForSeq2SeqLM, AutoTokenizer, TrainingArguments, Trainer"
      ],
      "outputs": [],
      "execution_count": null,
      "metadata": {}
    },
    {
      "cell_type": "code",
      "source": [
        "root_dir = Path.cwd().parent"
      ],
      "outputs": [],
      "execution_count": null,
      "metadata": {}
    },
    {
      "cell_type": "code",
      "source": [
        "datasets = load_dataset(\"json\", data_files={\n",
        "    \"train\": str(root_dir / \"data\" / \"train.jsonl\")\n",
        "}, cache_dir=root_dir / \"data\" / \"cache\", split=\"train\")"
      ],
      "outputs": [],
      "execution_count": null,
      "metadata": {}
    },
    {
      "cell_type": "code",
      "source": [
        "# datasets = load_dataset(\"code_x_glue_ct_code_to_text\", 'python', split=\"train\")\n",
        "tokenizer = AutoTokenizer.from_pretrained(\"Salesforce/codet5p-220m\")\n",
        "\n",
        "def preprocess_function(examples):\n",
        "    source = [' '.join(ex) for ex in examples[\"code_tokens\"]]\n",
        "    target = [' '.join(ex) for ex in examples[\"docstring_tokens\"]]\n",
        "\n",
        "    model_inputs = tokenizer(source, max_length=320, padding=\"max_length\", truncation=True)\n",
        "    labels = tokenizer(target, max_length=128, padding=\"max_length\", truncation=True)\n",
        "\n",
        "    model_inputs[\"labels\"] = labels[\"input_ids\"].copy()\n",
        "    model_inputs[\"labels\"] = [\n",
        "        [(l if l != tokenizer.pad_token_id else -100) for l in label] for label in model_inputs[\"labels\"]\n",
        "    ]\n",
        "    return model_inputs\n",
        "\n",
        "train_data = datasets.map(\n",
        "    preprocess_function,\n",
        "    batched=True,\n",
        "    remove_columns=datasets.column_names,\n",
        "    num_proc=64,\n",
        "    load_from_cache_file=False,\n",
        ")"
      ],
      "outputs": [],
      "execution_count": 5,
      "metadata": {}
    },
    {
      "cell_type": "code",
      "source": [
        "model = AutoModelForSeq2SeqLM.from_pretrained(\"Salesforce/codet5p-220m\")\n",
        "\n",
        "training_args = TrainingArguments(\n",
        "    output_dir=root_dir / \"modeling\" / \"models\" / \"codet5p_220m\",\n",
        "    overwrite_output_dir=False,\n",
        "\n",
        "    do_train=True,\n",
        "    save_strategy='epoch',\n",
        "\n",
        "    num_train_epochs=2,\n",
        "    per_device_train_batch_size=8,\n",
        "    gradient_accumulation_steps=4,\n",
        "\n",
        "    learning_rate=5e-5,\n",
        "    weight_decay=0.05,\n",
        "    warmup_steps=200,\n",
        "\n",
        "    logging_dir=root_dir / \"modeling\" / \"models\" / \"codet5p_220m\",\n",
        "    logging_first_step=True,\n",
        "    logging_steps=100,\n",
        "    save_total_limit=1,\n",
        "\n",
        "    dataloader_drop_last=True,\n",
        "    dataloader_num_workers=4,\n",
        "\n",
        "    local_rank=-1,\n",
        "    deepspeed=None,\n",
        "    fp16=False,\n",
        ")\n",
        "\n",
        "trainer = Trainer(\n",
        "    model=model,\n",
        "    args=training_args,\n",
        "    train_dataset=train_data,\n",
        ")"
      ],
      "outputs": [],
      "execution_count": null,
      "metadata": {}
    },
    {
      "cell_type": "code",
      "source": [
        "trainer.train()"
      ],
      "outputs": [],
      "execution_count": null,
      "metadata": {}
    },
    {
      "cell_type": "code",
      "source": [
        "trainer.save_model(root_dir / \"modeling\" / \"models\" / \"codet5p_220m\")"
      ],
      "outputs": [],
      "execution_count": null,
      "metadata": {}
    }
  ],
  "metadata": {
    "kernelspec": {
      "name": "python3",
      "language": "python",
      "display_name": "Python 3 (ipykernel)"
    },
    "language_info": {
      "name": "python",
      "version": "3.8.5",
      "mimetype": "text/x-python",
      "codemirror_mode": {
        "name": "ipython",
        "version": 3
      },
      "pygments_lexer": "ipython3",
      "nbconvert_exporter": "python",
      "file_extension": ".py"
    },
    "orig_nbformat": 4,
    "microsoft": {
      "ms_spell_check": {
        "ms_spell_check_language": "en"
      }
    },
    "kernel_info": {
      "name": "python3"
    },
    "nteract": {
      "version": "nteract-front-end@1.0.0"
    }
  },
  "nbformat": 4,
  "nbformat_minor": 2
}
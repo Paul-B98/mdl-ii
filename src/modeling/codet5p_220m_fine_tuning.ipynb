{
  "cells": [
    {
      "cell_type": "code",
      "execution_count": null,
      "metadata": {},
      "outputs": [],
      "source": [
        "from pathlib import Path\n",
        "\n",
        "from datasets import load_dataset\n",
        "from transformers import AutoModelForSeq2SeqLM, AutoTokenizer, TrainingArguments, Trainer"
      ]
    },
    {
      "cell_type": "code",
      "execution_count": null,
      "metadata": {},
      "outputs": [],
      "source": [
        "root_dir = Path.cwd().parent"
      ]
    },
    {
      "cell_type": "code",
      "execution_count": null,
      "metadata": {},
      "outputs": [],
      "source": [
        "datasets = load_dataset(\"json\", data_files={\n",
        "    \"train\": str(root_dir / \"data\" / \"train.jsonl\")\n",
        "}, cache_dir=root_dir / \"data\" / \"cache\", split=\"train\")"
      ]
    },
    {
      "cell_type": "code",
      "execution_count": 5,
      "metadata": {},
      "outputs": [],
      "source": [
        "# datasets = load_dataset(\"code_x_glue_ct_code_to_text\", 'python', split=\"train\")\n",
        "tokenizer = AutoTokenizer.from_pretrained(\"Salesforce/codet5p-220m\")\n",
        "\n",
        "def preprocess_function(examples):\n",
        "    source = [' '.join(ex) for ex in examples[\"code_tokens\"]]\n",
        "    target = [' '.join(ex) for ex in examples[\"docstring_tokens\"]]\n",
        "\n",
        "    model_inputs = tokenizer(source, max_length=320, padding=\"max_length\", truncation=True)\n",
        "    labels = tokenizer(target, max_length=128, padding=\"max_length\", truncation=True)\n",
        "\n",
        "    model_inputs[\"labels\"] = labels[\"input_ids\"].copy()\n",
        "    model_inputs[\"labels\"] = [\n",
        "        [(l if l != tokenizer.pad_token_id else -100) for l in label] for label in model_inputs[\"labels\"]\n",
        "    ]\n",
        "    return model_inputs\n",
        "\n",
        "train_data = datasets.map(\n",
        "    preprocess_function,\n",
        "    batched=True,\n",
        "    remove_columns=datasets.column_names,\n",
        "    num_proc=64,\n",
        "    load_from_cache_file=False,\n",
        ")"
      ]
    },
    {
      "cell_type": "code",
      "execution_count": null,
      "metadata": {},
      "outputs": [],
      "source": [
        "model = AutoModelForSeq2SeqLM.from_pretrained(\"Salesforce/codet5p-220m\")\n",
        "model.to(\"cuda\")\n",
        "\n",
        "training_args = TrainingArguments(\n",
        "    output_dir=root_dir / \"modeling\" / \"models\" / \"codet5p_220m\",\n",
        "    overwrite_output_dir=False,\n",
        "\n",
        "    do_train=True,\n",
        "    save_strategy='epoch',\n",
        "\n",
        "    num_train_epochs=2,\n",
        "    per_device_train_batch_size=8,\n",
        "    gradient_accumulation_steps=4,\n",
        "\n",
        "    learning_rate=5e-5,\n",
        "    weight_decay=0.05,\n",
        "    warmup_steps=200,\n",
        "\n",
        "    logging_dir=root_dir / \"modeling\" / \"models\" / \"codet5p_220m\",\n",
        "    logging_first_step=True,\n",
        "    logging_steps=100,\n",
        "    save_total_limit=1,\n",
        "\n",
        "    dataloader_drop_last=True,\n",
        "    dataloader_num_workers=4,\n",
        "\n",
        "    local_rank=-1,\n",
        "    deepspeed=None,\n",
        "    fp16=False,\n",
        ")\n",
        "\n",
        "trainer = Trainer(\n",
        "    model=model,\n",
        "    args=training_args,\n",
        "    train_dataset=train_data,\n",
        ")"
      ]
    },
    {
      "cell_type": "code",
      "execution_count": null,
      "metadata": {},
      "outputs": [],
      "source": [
        "trainer.train()"
      ]
    },
    {
      "cell_type": "code",
      "execution_count": null,
      "metadata": {},
      "outputs": [],
      "source": [
        "trainer.save_model(root_dir / \"modeling\" / \"models\" / \"codet5p_220m\")"
      ]
    }
  ],
  "metadata": {
    "kernel_info": {
      "name": "python3"
    },
    "kernelspec": {
      "display_name": "Python 3 (ipykernel)",
      "language": "python",
      "name": "python3"
    },
    "language_info": {
      "codemirror_mode": {
        "name": "ipython",
        "version": 3
      },
      "file_extension": ".py",
      "mimetype": "text/x-python",
      "name": "python",
      "nbconvert_exporter": "python",
      "pygments_lexer": "ipython3",
      "version": "3.10.11"
    },
    "microsoft": {
      "ms_spell_check": {
        "ms_spell_check_language": "en"
      }
    },
    "nteract": {
      "version": "nteract-front-end@1.0.0"
    },
    "orig_nbformat": 4
  },
  "nbformat": 4,
  "nbformat_minor": 2
}

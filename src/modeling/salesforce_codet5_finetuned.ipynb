{
 "cells": [
  {
   "cell_type": "code",
   "execution_count": 1,
   "metadata": {},
   "outputs": [
    {
     "name": "stderr",
     "output_type": "stream",
     "text": [
      "/home/paul/.conda/envs/tf/lib/python3.8/site-packages/tqdm/auto.py:22: TqdmWarning: IProgress not found. Please update jupyter and ipywidgets. See https://ipywidgets.readthedocs.io/en/stable/user_install.html\n",
      "  from .autonotebook import tqdm as notebook_tqdm\n"
     ]
    }
   ],
   "source": [
    "import pandas as pd\n",
    "\n",
    "from pathlib import Path\n",
    "from datasets import load_dataset"
   ]
  },
  {
   "cell_type": "code",
   "execution_count": 2,
   "metadata": {},
   "outputs": [],
   "source": [
    "root_dir = Path.cwd().parent"
   ]
  },
  {
   "cell_type": "code",
   "execution_count": 3,
   "metadata": {},
   "outputs": [
    {
     "name": "stderr",
     "output_type": "stream",
     "text": [
      "Found cached dataset json (/home/paul/projects/edu/master/mdl-ii/src/data/cache/json/default-a344fc8bdfa01104/0.0.0/e347ab1c932092252e717ff3f949105a4dd28b27e842dd53157d2f72e276c2e4)\n",
      "100%|██████████| 3/3 [00:00<00:00,  3.28it/s]\n"
     ]
    }
   ],
   "source": [
    "dataset = load_dataset(\"json\", data_files={\n",
    "    \"train\": str(root_dir / \"data\" / \"train.jsonl\"),\n",
    "    \"test\": str(root_dir / \"data\" / \"test.jsonl\"),\n",
    "    \"validation\": str(root_dir / \"data\" / \"validation.jsonl\")\n",
    "}, cache_dir=root_dir / \"data\" / \"cache\")"
   ]
  },
  {
   "cell_type": "code",
   "execution_count": 4,
   "metadata": {},
   "outputs": [],
   "source": [
    "# from transformers import RobertaTokenizer, T5ForConditionalGeneration, TFT5ForConditionalGeneration\n",
    "\n",
    "# tokenizer = RobertaTokenizer.from_pretrained('Salesforce/codet5-base')\n",
    "# model = T5ForConditionalGeneration.from_pretrained('Salesforce/codet5-base-codexglue-sum-python')\n",
    "# # tf_model = TFT5ForConditionalGeneration.from_pretrained('Salesforce/codet5-base-codexglue-sum-python', from_pt=True)"
   ]
  },
  {
   "cell_type": "code",
   "execution_count": null,
   "metadata": {},
   "outputs": [],
   "source": [
    "# prefix = \"Summarize Python: \"\n",
    "\n",
    "# def preprocess_examples(examples):\n",
    "#     codes = examples['code']\n",
    "#     docstrings = examples['docstring']\n",
    "\n",
    "#     inputs = [prefix + code for code in codes]\n",
    "#     model_inputs = tokenizer(inputs, max_length=256, padding=\"max_length\", truncation=True)\n",
    "\n",
    "#     labels = tokenizer(docstrings, max_length=128, padding=\"max_length\", truncation=True).input_ids\n",
    "\n",
    "#     labels_with_ignore_index = []\n",
    "#     for labels_example in labels:\n",
    "#       labels_example = [label if label != 0 else -100 for label in labels_example]\n",
    "#       labels_with_ignore_index.append(labels_example)\n",
    "\n",
    "#     model_inputs[\"labels\"] = labels_with_ignore_index\n",
    "\n",
    "#     return model_inputs\n",
    "\n",
    "# dataset = dataset.map(preprocess_examples, batched=True)"
   ]
  },
  {
   "cell_type": "code",
   "execution_count": 8,
   "metadata": {},
   "outputs": [
    {
     "name": "stdout",
     "output_type": "stream",
     "text": [
      "Greet the user.\n"
     ]
    }
   ],
   "source": [
    "\n",
    "# text = \"def greet(user): print(f'hello world!')\"\n",
    "# input_ids = tokenizer(text, return_tensors=\"pt\").input_ids\n",
    "\n",
    "# # simply generate a single sequence\n",
    "# generated_ids = model.generate(input_ids, max_length=8)\n",
    "# print(tokenizer.decode(generated_ids[0], skip_special_tokens=True))"
   ]
  },
  {
   "cell_type": "code",
   "execution_count": null,
   "metadata": {},
   "outputs": [],
   "source": [
    "# dataset.set_format(type=\"tf\", columns=['input_ids', 'attention_mask', 'labels'])\n",
    "\n"
   ]
  },
  {
   "cell_type": "code",
   "execution_count": null,
   "metadata": {},
   "outputs": [],
   "source": [
    "# from torch.utils.data import DataLoader\n",
    "\n",
    "# dataset.set_format(type=\"torch\", columns=['input_ids', 'attention_mask', 'labels'])\n",
    "# train_dataloader = DataLoader(dataset['train'], shuffle=True, batch_size=8)\n",
    "# valid_dataloader = DataLoader(dataset['validation'], batch_size=4)\n",
    "# test_dataloader = DataLoader(dataset['test'], batch_size=4)"
   ]
  },
  {
   "cell_type": "code",
   "execution_count": null,
   "metadata": {},
   "outputs": [],
   "source": [
    "# batch = next(iter(train_dataloader))\n",
    "# print(batch.keys())"
   ]
  },
  {
   "cell_type": "code",
   "execution_count": null,
   "metadata": {},
   "outputs": [],
   "source": []
  },
  {
   "cell_type": "code",
   "execution_count": null,
   "metadata": {},
   "outputs": [],
   "source": [
    "# from transformers import T5ForConditionalGeneration, AdamW, get_linear_schedule_with_warmup\n",
    "# import pytorch_lightning as pl\n",
    "\n",
    "# class FineTunedCodeT5(pl.LightningModule):\n",
    "#     def __init__(self, lr=5e-5, num_train_epochs=15, warmup_steps=1000):\n",
    "#         super().__init__()\n",
    "#         self.model = T5ForConditionalGeneration.from_pretrained('Salesforce/codet5-small')\n",
    "#         self.save_hyperparameters()\n",
    "\n",
    "#     def forward(self, input_ids, attention_mask, labels=None):     \n",
    "#         outputs = self.model(input_ids=input_ids, attention_mask=attention_mask, labels=labels)\n",
    "#         return outputs\n",
    "    \n",
    "#     def common_step(self, batch, batch_idx):\n",
    "#         outputs = self(**batch)\n",
    "#         loss = outputs.loss\n",
    "\n",
    "#         return loss\n",
    "      \n",
    "#     def training_step(self, batch, batch_idx):\n",
    "#         loss = self.common_step(batch, batch_idx)     \n",
    "#         # logs metrics for each training_step,\n",
    "#         # and the average across the epoch\n",
    "#         self.log(\"training_loss\", loss)\n",
    "\n",
    "#         return loss\n",
    "\n",
    "#     def validation_step(self, batch, batch_idx):\n",
    "#         loss = self.common_step(batch, batch_idx)     \n",
    "#         self.log(\"validation_loss\", loss, on_epoch=True)\n",
    "\n",
    "#         return loss\n",
    "\n",
    "#     def test_step(self, batch, batch_idx):\n",
    "#         loss = self.common_step(batch, batch_idx)     \n",
    "\n",
    "#         return loss\n",
    "\n",
    "#     def configure_optimizers(self):\n",
    "#         # create optimizer\n",
    "#         optimizer = AdamW(self.parameters(), lr=self.hparams.lr)\n",
    "#         # create learning rate scheduler\n",
    "#         num_train_optimization_steps = self.hparams.num_train_epochs * len(train_dataloader)\n",
    "#         lr_scheduler = {'scheduler': get_linear_schedule_with_warmup(optimizer,\n",
    "#                                                     num_warmup_steps=self.hparams.warmup_steps,\n",
    "#                                                     num_training_steps=num_train_optimization_steps),\n",
    "#                         'name': 'learning_rate',\n",
    "#                         'interval':'step',\n",
    "#                         'frequency': 1}\n",
    "        \n",
    "#         return {\"optimizer\": optimizer, \"lr_scheduler\": lr_scheduler}\n",
    "\n",
    "#     def train_dataloader(self):\n",
    "#         return train_dataloader\n",
    "\n",
    "#     def val_dataloader(self):\n",
    "#         return valid_dataloader\n",
    "\n",
    "#     def test_dataloader(self):\n",
    "#         return test_dataloader"
   ]
  },
  {
   "cell_type": "code",
   "execution_count": null,
   "metadata": {},
   "outputs": [],
   "source": [
    "# model = FineTunedCodeT5()"
   ]
  },
  {
   "cell_type": "code",
   "execution_count": null,
   "metadata": {},
   "outputs": [],
   "source": [
    "# from pytorch_lightning import Trainer\n",
    "# from pytorch_lightning.callbacks import EarlyStopping, LearningRateMonitor\n",
    "\n",
    "# import torch\n",
    "# torch.set_grad_enabled(True)\n",
    "\n",
    "# early_stop_callback = EarlyStopping(\n",
    "#     monitor='validation_loss',\n",
    "#     patience=3,\n",
    "#     strict=False,\n",
    "#     verbose=False,\n",
    "#     mode='min'\n",
    "# )\n",
    "# lr_monitor = LearningRateMonitor(logging_interval='step')\n",
    "\n",
    "# trainer = Trainer(devices=1, \n",
    "#                   callbacks=[early_stop_callback, lr_monitor])\n",
    "# trainer.fit(model)"
   ]
  },
  {
   "cell_type": "code",
   "execution_count": 2,
   "metadata": {},
   "outputs": [
    {
     "data": {
      "text/plain": [
       "1"
      ]
     },
     "execution_count": 2,
     "metadata": {},
     "output_type": "execute_result"
    }
   ],
   "source": [
    "import torch\n",
    "torch.cuda.device_count()"
   ]
  },
  {
   "cell_type": "code",
   "execution_count": 3,
   "metadata": {},
   "outputs": [
    {
     "data": {
      "text/plain": [
       "'NVIDIA GeForce RTX 4070 Ti'"
      ]
     },
     "execution_count": 3,
     "metadata": {},
     "output_type": "execute_result"
    }
   ],
   "source": [
    "torch.cuda.get_device_name(0)"
   ]
  },
  {
   "cell_type": "code",
   "execution_count": 3,
   "metadata": {},
   "outputs": [
    {
     "name": "stdout",
     "output_type": "stream",
     "text": [
      "\n",
      "===================================BUG REPORT===================================\n",
      "Welcome to bitsandbytes. For bug reports, please run\n",
      "\n",
      "python -m bitsandbytes\n",
      "\n",
      " and submit this information together with your error trace to: https://github.com/TimDettmers/bitsandbytes/issues\n",
      "================================================================================\n",
      "bin /home/paul/.conda/envs/tf/lib/python3.8/site-packages/bitsandbytes/libbitsandbytes_cuda118.so\n",
      "CUDA SETUP: CUDA runtime path found: /home/paul/.conda/envs/tf/lib/libcudart.so.11.0\n",
      "CUDA SETUP: Highest compute capability among GPUs detected: 8.9\n",
      "CUDA SETUP: Detected CUDA version 118\n",
      "CUDA SETUP: Loading binary /home/paul/.conda/envs/tf/lib/python3.8/site-packages/bitsandbytes/libbitsandbytes_cuda118.so...\n"
     ]
    },
    {
     "name": "stderr",
     "output_type": "stream",
     "text": [
      "/home/paul/.conda/envs/tf/lib/python3.8/site-packages/bitsandbytes/cuda_setup/main.py:149: UserWarning: Found duplicate ['libcudart.so', 'libcudart.so.11.0', 'libcudart.so.12.0'] files: {PosixPath('/home/paul/.conda/envs/tf/lib/libcudart.so.11.0'), PosixPath('/home/paul/.conda/envs/tf/lib/libcudart.so')}.. We'll flip a coin and try one of these, in order to fail forward.\n",
      "Either way, this might cause trouble in the future:\n",
      "If you get `CUDA error: invalid device function` errors, the above might be the cause and the solution is to make sure only one ['libcudart.so', 'libcudart.so.11.0', 'libcudart.so.12.0'] in the paths that we search based on your env.\n",
      "  warn(msg)\n"
     ]
    }
   ],
   "source": [
    "from datasets import load_dataset\n",
    "from transformers import AutoModelForSeq2SeqLM, AutoTokenizer, TrainingArguments, Trainer"
   ]
  },
  {
   "cell_type": "code",
   "execution_count": 5,
   "metadata": {},
   "outputs": [
    {
     "name": "stderr",
     "output_type": "stream",
     "text": [
      "Found cached dataset code_x_glue_ct_code_to_text (/home/paul/.cache/huggingface/datasets/code_x_glue_ct_code_to_text/python/0.0.0/5985e3a1ba00c990554612a55da81b9d370af466f2889212f79bbcf17d8a30ca)\n",
      "/home/paul/.conda/envs/tf/lib/python3.8/site-packages/transformers/optimization.py:411: FutureWarning: This implementation of AdamW is deprecated and will be removed in a future version. Use the PyTorch implementation torch.optim.AdamW instead, or set `no_deprecation_warning=True` to disable this warning\n",
      "  warnings.warn(\n"
     ]
    },
    {
     "data": {
      "text/html": [
       "\n",
       "    <div>\n",
       "      \n",
       "      <progress value='97' max='78690' style='width:300px; height:20px; vertical-align: middle;'></progress>\n",
       "      [   97/78690 01:29 < 20:36:43, 1.06 it/s, Epoch 0.01/10]\n",
       "    </div>\n",
       "    <table border=\"1\" class=\"dataframe\">\n",
       "  <thead>\n",
       " <tr style=\"text-align: left;\">\n",
       "      <th>Step</th>\n",
       "      <th>Training Loss</th>\n",
       "    </tr>\n",
       "  </thead>\n",
       "  <tbody>\n",
       "    <tr>\n",
       "      <td>1</td>\n",
       "      <td>5.397400</td>\n",
       "    </tr>\n",
       "    <tr>\n",
       "      <td>10</td>\n",
       "      <td>5.658300</td>\n",
       "    </tr>\n",
       "    <tr>\n",
       "      <td>20</td>\n",
       "      <td>4.942500</td>\n",
       "    </tr>\n",
       "    <tr>\n",
       "      <td>30</td>\n",
       "      <td>4.068300</td>\n",
       "    </tr>\n",
       "    <tr>\n",
       "      <td>40</td>\n",
       "      <td>3.419200</td>\n",
       "    </tr>\n",
       "    <tr>\n",
       "      <td>50</td>\n",
       "      <td>3.126000</td>\n",
       "    </tr>\n",
       "    <tr>\n",
       "      <td>60</td>\n",
       "      <td>2.965600</td>\n",
       "    </tr>\n",
       "    <tr>\n",
       "      <td>70</td>\n",
       "      <td>3.009900</td>\n",
       "    </tr>\n",
       "    <tr>\n",
       "      <td>80</td>\n",
       "      <td>2.987000</td>\n",
       "    </tr>\n",
       "    <tr>\n",
       "      <td>90</td>\n",
       "      <td>2.761000</td>\n",
       "    </tr>\n",
       "  </tbody>\n",
       "</table><p>"
      ],
      "text/plain": [
       "<IPython.core.display.HTML object>"
      ]
     },
     "metadata": {},
     "output_type": "display_data"
    },
    {
     "ename": "KeyboardInterrupt",
     "evalue": "",
     "output_type": "error",
     "traceback": [
      "\u001b[0;31m---------------------------------------------------------------------------\u001b[0m",
      "\u001b[0;31mKeyboardInterrupt\u001b[0m                         Traceback (most recent call last)",
      "Cell \u001b[0;32mIn[5], line 61\u001b[0m\n\u001b[1;32m     27\u001b[0m training_args \u001b[39m=\u001b[39m TrainingArguments(\n\u001b[1;32m     28\u001b[0m     output_dir\u001b[39m=\u001b[39mroot_dir \u001b[39m/\u001b[39m \u001b[39m\"\u001b[39m\u001b[39mdata\u001b[39m\u001b[39m\"\u001b[39m \u001b[39m/\u001b[39m \u001b[39m\"\u001b[39m\u001b[39mt5\u001b[39m\u001b[39m\"\u001b[39m,\n\u001b[1;32m     29\u001b[0m     overwrite_output_dir\u001b[39m=\u001b[39m\u001b[39mFalse\u001b[39;00m,\n\u001b[0;32m   (...)\u001b[0m\n\u001b[1;32m     52\u001b[0m     fp16\u001b[39m=\u001b[39m\u001b[39mFalse\u001b[39;00m,\n\u001b[1;32m     53\u001b[0m )\n\u001b[1;32m     55\u001b[0m trainer \u001b[39m=\u001b[39m Trainer(\n\u001b[1;32m     56\u001b[0m     model\u001b[39m=\u001b[39mmodel,\n\u001b[1;32m     57\u001b[0m     args\u001b[39m=\u001b[39mtraining_args,\n\u001b[1;32m     58\u001b[0m     train_dataset\u001b[39m=\u001b[39mtrain_data,\n\u001b[1;32m     59\u001b[0m )\n\u001b[0;32m---> 61\u001b[0m trainer\u001b[39m.\u001b[39;49mtrain()\n",
      "File \u001b[0;32m~/.conda/envs/tf/lib/python3.8/site-packages/transformers/trainer.py:1645\u001b[0m, in \u001b[0;36mTrainer.train\u001b[0;34m(self, resume_from_checkpoint, trial, ignore_keys_for_eval, **kwargs)\u001b[0m\n\u001b[1;32m   1640\u001b[0m     \u001b[39mself\u001b[39m\u001b[39m.\u001b[39mmodel_wrapped \u001b[39m=\u001b[39m \u001b[39mself\u001b[39m\u001b[39m.\u001b[39mmodel\n\u001b[1;32m   1642\u001b[0m inner_training_loop \u001b[39m=\u001b[39m find_executable_batch_size(\n\u001b[1;32m   1643\u001b[0m     \u001b[39mself\u001b[39m\u001b[39m.\u001b[39m_inner_training_loop, \u001b[39mself\u001b[39m\u001b[39m.\u001b[39m_train_batch_size, args\u001b[39m.\u001b[39mauto_find_batch_size\n\u001b[1;32m   1644\u001b[0m )\n\u001b[0;32m-> 1645\u001b[0m \u001b[39mreturn\u001b[39;00m inner_training_loop(\n\u001b[1;32m   1646\u001b[0m     args\u001b[39m=\u001b[39;49margs,\n\u001b[1;32m   1647\u001b[0m     resume_from_checkpoint\u001b[39m=\u001b[39;49mresume_from_checkpoint,\n\u001b[1;32m   1648\u001b[0m     trial\u001b[39m=\u001b[39;49mtrial,\n\u001b[1;32m   1649\u001b[0m     ignore_keys_for_eval\u001b[39m=\u001b[39;49mignore_keys_for_eval,\n\u001b[1;32m   1650\u001b[0m )\n",
      "File \u001b[0;32m~/.conda/envs/tf/lib/python3.8/site-packages/transformers/trainer.py:1938\u001b[0m, in \u001b[0;36mTrainer._inner_training_loop\u001b[0;34m(self, batch_size, args, resume_from_checkpoint, trial, ignore_keys_for_eval)\u001b[0m\n\u001b[1;32m   1935\u001b[0m     \u001b[39mself\u001b[39m\u001b[39m.\u001b[39mcontrol \u001b[39m=\u001b[39m \u001b[39mself\u001b[39m\u001b[39m.\u001b[39mcallback_handler\u001b[39m.\u001b[39mon_step_begin(args, \u001b[39mself\u001b[39m\u001b[39m.\u001b[39mstate, \u001b[39mself\u001b[39m\u001b[39m.\u001b[39mcontrol)\n\u001b[1;32m   1937\u001b[0m \u001b[39mwith\u001b[39;00m \u001b[39mself\u001b[39m\u001b[39m.\u001b[39maccelerator\u001b[39m.\u001b[39maccumulate(model):\n\u001b[0;32m-> 1938\u001b[0m     tr_loss_step \u001b[39m=\u001b[39m \u001b[39mself\u001b[39;49m\u001b[39m.\u001b[39;49mtraining_step(model, inputs)\n\u001b[1;32m   1940\u001b[0m \u001b[39mif\u001b[39;00m (\n\u001b[1;32m   1941\u001b[0m     args\u001b[39m.\u001b[39mlogging_nan_inf_filter\n\u001b[1;32m   1942\u001b[0m     \u001b[39mand\u001b[39;00m \u001b[39mnot\u001b[39;00m is_torch_tpu_available()\n\u001b[1;32m   1943\u001b[0m     \u001b[39mand\u001b[39;00m (torch\u001b[39m.\u001b[39misnan(tr_loss_step) \u001b[39mor\u001b[39;00m torch\u001b[39m.\u001b[39misinf(tr_loss_step))\n\u001b[1;32m   1944\u001b[0m ):\n\u001b[1;32m   1945\u001b[0m     \u001b[39m# if loss is nan or inf simply add the average of previous logged losses\u001b[39;00m\n\u001b[1;32m   1946\u001b[0m     tr_loss \u001b[39m+\u001b[39m\u001b[39m=\u001b[39m tr_loss \u001b[39m/\u001b[39m (\u001b[39m1\u001b[39m \u001b[39m+\u001b[39m \u001b[39mself\u001b[39m\u001b[39m.\u001b[39mstate\u001b[39m.\u001b[39mglobal_step \u001b[39m-\u001b[39m \u001b[39mself\u001b[39m\u001b[39m.\u001b[39m_globalstep_last_logged)\n",
      "File \u001b[0;32m~/.conda/envs/tf/lib/python3.8/site-packages/transformers/trainer.py:2770\u001b[0m, in \u001b[0;36mTrainer.training_step\u001b[0;34m(self, model, inputs)\u001b[0m\n\u001b[1;32m   2768\u001b[0m         scaled_loss\u001b[39m.\u001b[39mbackward()\n\u001b[1;32m   2769\u001b[0m \u001b[39melse\u001b[39;00m:\n\u001b[0;32m-> 2770\u001b[0m     \u001b[39mself\u001b[39;49m\u001b[39m.\u001b[39;49maccelerator\u001b[39m.\u001b[39;49mbackward(loss)\n\u001b[1;32m   2772\u001b[0m \u001b[39mreturn\u001b[39;00m loss\u001b[39m.\u001b[39mdetach() \u001b[39m/\u001b[39m \u001b[39mself\u001b[39m\u001b[39m.\u001b[39margs\u001b[39m.\u001b[39mgradient_accumulation_steps\n",
      "File \u001b[0;32m~/.conda/envs/tf/lib/python3.8/site-packages/accelerate/accelerator.py:1821\u001b[0m, in \u001b[0;36mAccelerator.backward\u001b[0;34m(self, loss, **kwargs)\u001b[0m\n\u001b[1;32m   1819\u001b[0m     \u001b[39mself\u001b[39m\u001b[39m.\u001b[39mscaler\u001b[39m.\u001b[39mscale(loss)\u001b[39m.\u001b[39mbackward(\u001b[39m*\u001b[39m\u001b[39m*\u001b[39mkwargs)\n\u001b[1;32m   1820\u001b[0m \u001b[39melse\u001b[39;00m:\n\u001b[0;32m-> 1821\u001b[0m     loss\u001b[39m.\u001b[39;49mbackward(\u001b[39m*\u001b[39;49m\u001b[39m*\u001b[39;49mkwargs)\n",
      "File \u001b[0;32m~/.conda/envs/tf/lib/python3.8/site-packages/torch/_tensor.py:488\u001b[0m, in \u001b[0;36mTensor.backward\u001b[0;34m(self, gradient, retain_graph, create_graph, inputs)\u001b[0m\n\u001b[1;32m    478\u001b[0m \u001b[39mif\u001b[39;00m has_torch_function_unary(\u001b[39mself\u001b[39m):\n\u001b[1;32m    479\u001b[0m     \u001b[39mreturn\u001b[39;00m handle_torch_function(\n\u001b[1;32m    480\u001b[0m         Tensor\u001b[39m.\u001b[39mbackward,\n\u001b[1;32m    481\u001b[0m         (\u001b[39mself\u001b[39m,),\n\u001b[0;32m   (...)\u001b[0m\n\u001b[1;32m    486\u001b[0m         inputs\u001b[39m=\u001b[39minputs,\n\u001b[1;32m    487\u001b[0m     )\n\u001b[0;32m--> 488\u001b[0m torch\u001b[39m.\u001b[39;49mautograd\u001b[39m.\u001b[39;49mbackward(\n\u001b[1;32m    489\u001b[0m     \u001b[39mself\u001b[39;49m, gradient, retain_graph, create_graph, inputs\u001b[39m=\u001b[39;49minputs\n\u001b[1;32m    490\u001b[0m )\n",
      "File \u001b[0;32m~/.conda/envs/tf/lib/python3.8/site-packages/torch/autograd/__init__.py:197\u001b[0m, in \u001b[0;36mbackward\u001b[0;34m(tensors, grad_tensors, retain_graph, create_graph, grad_variables, inputs)\u001b[0m\n\u001b[1;32m    192\u001b[0m     retain_graph \u001b[39m=\u001b[39m create_graph\n\u001b[1;32m    194\u001b[0m \u001b[39m# The reason we repeat same the comment below is that\u001b[39;00m\n\u001b[1;32m    195\u001b[0m \u001b[39m# some Python versions print out the first line of a multi-line function\u001b[39;00m\n\u001b[1;32m    196\u001b[0m \u001b[39m# calls in the traceback and some print out the last line\u001b[39;00m\n\u001b[0;32m--> 197\u001b[0m Variable\u001b[39m.\u001b[39;49m_execution_engine\u001b[39m.\u001b[39;49mrun_backward(  \u001b[39m# Calls into the C++ engine to run the backward pass\u001b[39;49;00m\n\u001b[1;32m    198\u001b[0m     tensors, grad_tensors_, retain_graph, create_graph, inputs,\n\u001b[1;32m    199\u001b[0m     allow_unreachable\u001b[39m=\u001b[39;49m\u001b[39mTrue\u001b[39;49;00m, accumulate_grad\u001b[39m=\u001b[39;49m\u001b[39mTrue\u001b[39;49;00m)\n",
      "\u001b[0;31mKeyboardInterrupt\u001b[0m: "
     ]
    }
   ],
   "source": [
    "datasets = load_dataset(\"code_x_glue_ct_code_to_text\", 'python', split=\"train\")\n",
    "tokenizer = AutoTokenizer.from_pretrained(\"Salesforce/codet5p-220m\")\n",
    "\n",
    "def preprocess_function(examples):\n",
    "    source = [' '.join(ex) for ex in examples[\"code_tokens\"]]\n",
    "    target = [' '.join(ex) for ex in examples[\"docstring_tokens\"]]\n",
    "\n",
    "    model_inputs = tokenizer(source, max_length=320, padding=\"max_length\", truncation=True)\n",
    "    labels = tokenizer(target, max_length=128, padding=\"max_length\", truncation=True)\n",
    "\n",
    "    model_inputs[\"labels\"] = labels[\"input_ids\"].copy()\n",
    "    model_inputs[\"labels\"] = [\n",
    "        [(l if l != tokenizer.pad_token_id else -100) for l in label] for label in model_inputs[\"labels\"]\n",
    "    ]\n",
    "    return model_inputs\n",
    "\n",
    "train_data = datasets.map(\n",
    "    preprocess_function,\n",
    "    batched=True,\n",
    "    remove_columns=datasets.column_names,\n",
    "    num_proc=64,\n",
    "    load_from_cache_file=False,\n",
    ")\n",
    "\n",
    "model = AutoModelForSeq2SeqLM.from_pretrained(\"Salesforce/codet5p-220m\")\n",
    "\n",
    "training_args = TrainingArguments(\n",
    "    output_dir=root_dir / \"data\" / \"t5\",\n",
    "    overwrite_output_dir=False,\n",
    "\n",
    "    do_train=True,\n",
    "    save_strategy='epoch',\n",
    "\n",
    "    num_train_epochs=10,\n",
    "    per_device_train_batch_size=8,\n",
    "    gradient_accumulation_steps=4,\n",
    "\n",
    "    learning_rate=5e-5,\n",
    "    weight_decay=0.05,\n",
    "    warmup_steps=200,\n",
    "\n",
    "    logging_dir=root_dir / \"data\" / \"t5\",\n",
    "    logging_first_step=True,\n",
    "    logging_steps=10,\n",
    "    save_total_limit=1,\n",
    "\n",
    "    dataloader_drop_last=True,\n",
    "    dataloader_num_workers=4,\n",
    "\n",
    "    local_rank=-1,\n",
    "    deepspeed=None,\n",
    "    fp16=False,\n",
    ")\n",
    "\n",
    "trainer = Trainer(\n",
    "    model=model,\n",
    "    args=training_args,\n",
    "    train_dataset=train_data,\n",
    ")\n",
    "\n",
    "trainer.train()"
   ]
  }
 ],
 "metadata": {
  "kernelspec": {
   "display_name": "tf",
   "language": "python",
   "name": "python3"
  },
  "language_info": {
   "codemirror_mode": {
    "name": "ipython",
    "version": 3
   },
   "file_extension": ".py",
   "mimetype": "text/x-python",
   "name": "python",
   "nbconvert_exporter": "python",
   "pygments_lexer": "ipython3",
   "version": "3.8.16"
  },
  "orig_nbformat": 4
 },
 "nbformat": 4,
 "nbformat_minor": 2
}

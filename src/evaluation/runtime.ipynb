{
 "cells": [
  {
   "cell_type": "code",
   "execution_count": 27,
   "metadata": {},
   "outputs": [],
   "source": [
    "from abc import ABC\n",
    "from pathlib import Path\n",
    "from timeit import repeat\n",
    "\n",
    "from codetf.models import load_model_pipeline"
   ]
  },
  {
   "cell_type": "code",
   "execution_count": 28,
   "metadata": {},
   "outputs": [],
   "source": [
    "root_dir = Path.cwd()"
   ]
  },
  {
   "cell_type": "code",
   "execution_count": 32,
   "metadata": {},
   "outputs": [],
   "source": [
    "class AbstractModel(ABC):\n",
    "    def predict(self) -> str:\n",
    "        raise NotImplementedError()\n",
    "    \n",
    "    def model_name() -> str:\n",
    "        raise NotImplementedError()\n",
    "    \n",
    "class CodeTFModel(AbstractModel):\n",
    "    def __init__(self, model_name: str, model_type: str, task: str) -> None:\n",
    "        super().__init__()\n",
    "\n",
    "        self._model = load_model_pipeline(model_name=model_name, model_type=model_type, task=task)\n",
    "        self._model_name = model_name\n",
    "        self._model_type = model_type\n",
    "        self._task = task\n",
    "\n",
    "    def predict(self) -> str:\n",
    "        return self._model.predict(['def hello(): print(\"Hello world\")'])\n",
    "    \n",
    "    def model_name(self) -> str:\n",
    "        return f\"{self._model_name}-{self._model_type}-{self._task}\""
   ]
  },
  {
   "cell_type": "code",
   "execution_count": 55,
   "metadata": {},
   "outputs": [],
   "source": [
    "def test_runtime(model: AbstractModel):   \n",
    "    file_path = root_dir / \"data\" / \"runtime\" / f\"{model.model_name()}.csv\"\n",
    "\n",
    "    if file_path.exists():\n",
    "        return\n",
    "\n",
    "    def _predict():\n",
    "        model.predict()\n",
    "\n",
    "    with file_path.open(\"w\") as f:\n",
    "        f.writelines(f\"{n}\\n\" for n in repeat(_predict, number=1, repeat=100))"
   ]
  },
  {
   "cell_type": "code",
   "execution_count": 56,
   "metadata": {},
   "outputs": [],
   "source": [
    "test_runtime(CodeTFModel(model_name=\"codet5\", model_type=\"base-multi-sum\", task=\"pretrained\"))"
   ]
  },
  {
   "cell_type": "code",
   "execution_count": null,
   "metadata": {},
   "outputs": [],
   "source": [
    "test_runtime(CodeTFModel(model_name=\"codet5\", model_type=\"base\", task=\"sum_python\"))"
   ]
  },
  {
   "cell_type": "code",
   "execution_count": null,
   "metadata": {},
   "outputs": [],
   "source": []
  }
 ],
 "metadata": {
  "kernelspec": {
   "display_name": "codetf",
   "language": "python",
   "name": "python3"
  },
  "language_info": {
   "codemirror_mode": {
    "name": "ipython",
    "version": 3
   },
   "file_extension": ".py",
   "mimetype": "text/x-python",
   "name": "python",
   "nbconvert_exporter": "python",
   "pygments_lexer": "ipython3",
   "version": "3.10.11"
  },
  "orig_nbformat": 4
 },
 "nbformat": 4,
 "nbformat_minor": 2
}

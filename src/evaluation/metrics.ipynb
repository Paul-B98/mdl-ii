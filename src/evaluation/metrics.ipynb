{
 "cells": [
  {
   "cell_type": "code",
   "execution_count": null,
   "metadata": {},
   "outputs": [],
   "source": [
    "from pathlib import Path\n",
    "\n",
    "import pandas as pd\n",
    "from codetf.models import load_model_pipeline\n",
    "from sacrebleu.metrics import BLEU\n",
    "from datasets import load_dataset"
   ]
  },
  {
   "cell_type": "code",
   "execution_count": null,
   "metadata": {},
   "outputs": [],
   "source": [
    "root_dir = Path.cwd()"
   ]
  },
  {
   "cell_type": "code",
   "execution_count": null,
   "metadata": {},
   "outputs": [],
   "source": [
    "dataset = load_dataset(\"json\", data_files={\n",
    "    \"test\": str(root_dir / \"data\" / \"test.jsonl\"),\n",
    "}, cache_dir=root_dir / \"data\" / \"cache\")"
   ]
  },
  {
   "cell_type": "code",
   "execution_count": null,
   "metadata": {},
   "outputs": [],
   "source": [
    "def inference(doc):\n",
    "    doc[\"ref\"] = [\" \".join(docstring) for docstring in doc[\"docstring_tokens\"]]\n",
    "    return doc    \n",
    "\n",
    "dataset = dataset.map(inference, batched=True)"
   ]
  },
  {
   "cell_type": "code",
   "execution_count": null,
   "metadata": {},
   "outputs": [],
   "source": [
    "dataset.set_format(type=\"pandas\", columns=[\"ref\", \"code\"])\n",
    "df = dataset[\"test\"][:]\n",
    "df.head()"
   ]
  },
  {
   "cell_type": "code",
   "execution_count": null,
   "metadata": {},
   "outputs": [],
   "source": [
    "model = load_model_pipeline(model_name=\"codet5\", task=\"sum_python\", model_type=\"base\")\n",
    "preds = []\n",
    "\n",
    "for i, row in df.head(100).iterrows():\n",
    "    if i % 100 == 0: print(i)\n",
    "    preds.extend(model.predict([row[\"code\"]]))"
   ]
  },
  {
   "cell_type": "code",
   "execution_count": null,
   "metadata": {},
   "outputs": [],
   "source": [
    "refs = df[\"ref\"].head(100).tolist()"
   ]
  },
  {
   "cell_type": "code",
   "execution_count": null,
   "metadata": {},
   "outputs": [],
   "source": [
    "bleu = BLEU()\n",
    "bleu.corpus_score(preds, [refs]).__dict__"
   ]
  }
 ],
 "metadata": {
  "kernelspec": {
   "display_name": "codetf",
   "language": "python",
   "name": "python3"
  },
  "language_info": {
   "name": "python",
   "version": "3.10.11"
  },
  "orig_nbformat": 4
 },
 "nbformat": 4,
 "nbformat_minor": 2
}

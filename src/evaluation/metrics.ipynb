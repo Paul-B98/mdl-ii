{
 "cells": [
  {
   "cell_type": "code",
   "execution_count": 28,
   "metadata": {},
   "outputs": [],
   "source": [
    "from abc import ABC\n",
    "from pathlib import Path\n",
    "\n",
    "import pandas as pd\n",
    "from codetf.models import load_model_pipeline\n",
    "from rouge_score import rouge_scorer\n",
    "from nltk.translate.meteor_score import meteor_score\n",
    "from sacrebleu import corpus_bleu, corpus_chrf, corpus_ter\n",
    "from datasets import load_dataset\n",
    "from transformers import AutoTokenizer, AutoModelWithLMHead, SummarizationPipeline"
   ]
  },
  {
   "cell_type": "code",
   "execution_count": 2,
   "metadata": {},
   "outputs": [],
   "source": [
    "root_dir = Path.cwd()"
   ]
  },
  {
   "attachments": {},
   "cell_type": "markdown",
   "metadata": {},
   "source": [
    "# Create Predictions\n",
    "Im folgenden wird mit allen Models für den Testdatensatz die Predictions generiert."
   ]
  },
  {
   "cell_type": "code",
   "execution_count": 10,
   "metadata": {},
   "outputs": [],
   "source": [
    "class AbstractModel(ABC):\n",
    "    def predict(self, code: str) -> str:\n",
    "        raise NotImplementedError()\n",
    "    \n",
    "    def model_name(self) -> str:\n",
    "        raise NotImplementedError()\n",
    "    \n",
    "class CodeTFModel(AbstractModel):\n",
    "    def __init__(self, model_name: str, model_type: str, task: str) -> None:\n",
    "        super().__init__()\n",
    "\n",
    "        self._model = load_model_pipeline(model_name=model_name, model_type=model_type, task=task)\n",
    "        self._model_name = model_name\n",
    "        self._model_type = model_type\n",
    "        self._task = task\n",
    "\n",
    "    def predict(self, code: str) -> str:\n",
    "        return self._model.predict([code])[0]\n",
    "    \n",
    "    def model_name(self) -> str:\n",
    "        return f\"{self._model_name}-{self._model_type}-{self._task}\"\n",
    "    \n",
    "class SebisModel(AbstractModel):\n",
    "    def __init__(self, model_name: str) -> None:\n",
    "        super().__init__()\n",
    "\n",
    "        self._pipeline = SummarizationPipeline(\n",
    "            model=AutoModelWithLMHead.from_pretrained(model_name),\n",
    "            tokenizer=AutoTokenizer.from_pretrained(model_name, skip_special_tokens=True),\n",
    "            device=0\n",
    "        )\n",
    "        self._model_name = model_name\n",
    "\n",
    "    def predict(self, code: str) -> str:\n",
    "        return self._pipeline([code])[0][\"summary_text\"]\n",
    "    \n",
    "    def model_name(self) -> str:\n",
    "        return self._model_name.replace(\"/\", \"-\")"
   ]
  },
  {
   "cell_type": "code",
   "execution_count": 4,
   "metadata": {},
   "outputs": [],
   "source": [
    "def get_preds(df: pd.DataFrame, model: AbstractModel):\n",
    "    file_path = root_dir / \"data\" / \"preds\" / f\"{model.model_name()}.csv\"\n",
    "    \n",
    "    if file_path.exists():\n",
    "        return\n",
    "\n",
    "    df = df.copy()\n",
    "    df[\"pred\"] = df[\"code\"].map(model.predict)\n",
    "    df[[\"ref\", \"pred\"]].to_csv(file_path)"
   ]
  },
  {
   "cell_type": "code",
   "execution_count": 5,
   "metadata": {},
   "outputs": [
    {
     "name": "stderr",
     "output_type": "stream",
     "text": [
      "Found cached dataset json (/home/paul/projects/edu/master/mdl-ii/src/data/cache/json/default-acdd91729f392843/0.0.0/e347ab1c932092252e717ff3f949105a4dd28b27e842dd53157d2f72e276c2e4)\n",
      "100%|██████████| 1/1 [00:00<00:00, 19.11it/s]\n"
     ]
    }
   ],
   "source": [
    "dataset = load_dataset(\"json\", data_files={\n",
    "    \"test\": str(root_dir.parent / \"data\" / \"test.jsonl\"),\n",
    "}, cache_dir=root_dir.parent / \"data\" / \"cache\")"
   ]
  },
  {
   "cell_type": "code",
   "execution_count": 6,
   "metadata": {},
   "outputs": [
    {
     "name": "stderr",
     "output_type": "stream",
     "text": [
      "Loading cached processed dataset at /home/paul/projects/edu/master/mdl-ii/src/data/cache/json/default-acdd91729f392843/0.0.0/e347ab1c932092252e717ff3f949105a4dd28b27e842dd53157d2f72e276c2e4/cache-e06db1d51f6ed421.arrow\n"
     ]
    },
    {
     "data": {
      "text/html": [
       "<div>\n",
       "<style scoped>\n",
       "    .dataframe tbody tr th:only-of-type {\n",
       "        vertical-align: middle;\n",
       "    }\n",
       "\n",
       "    .dataframe tbody tr th {\n",
       "        vertical-align: top;\n",
       "    }\n",
       "\n",
       "    .dataframe thead th {\n",
       "        text-align: right;\n",
       "    }\n",
       "</style>\n",
       "<table border=\"1\" class=\"dataframe\">\n",
       "  <thead>\n",
       "    <tr style=\"text-align: right;\">\n",
       "      <th></th>\n",
       "      <th>code</th>\n",
       "      <th>ref</th>\n",
       "    </tr>\n",
       "  </thead>\n",
       "  <tbody>\n",
       "    <tr>\n",
       "      <th>0</th>\n",
       "      <td>def sina_xml_to_url_list(xml_data):\\n    rawur...</td>\n",
       "      <td>str - &gt; list Convert XML to URL List . From Bi...</td>\n",
       "    </tr>\n",
       "    <tr>\n",
       "      <th>1</th>\n",
       "      <td>def dailymotion_download(url, output_dir='.', ...</td>\n",
       "      <td>Downloads Dailymotion videos by URL .</td>\n",
       "    </tr>\n",
       "    <tr>\n",
       "      <th>2</th>\n",
       "      <td>def sina_download(url, output_dir='.', merge=T...</td>\n",
       "      <td>Downloads Sina videos by URL .</td>\n",
       "    </tr>\n",
       "    <tr>\n",
       "      <th>3</th>\n",
       "      <td>def sprint(text, *colors):\\n    return \"\\33[{}...</td>\n",
       "      <td>Format text with color or other effects into A...</td>\n",
       "    </tr>\n",
       "    <tr>\n",
       "      <th>4</th>\n",
       "      <td>def print_log(text, *colors):\\n    sys.stderr....</td>\n",
       "      <td>Print a log message to standard error .</td>\n",
       "    </tr>\n",
       "  </tbody>\n",
       "</table>\n",
       "</div>"
      ],
      "text/plain": [
       "                                                code  \\\n",
       "0  def sina_xml_to_url_list(xml_data):\\n    rawur...   \n",
       "1  def dailymotion_download(url, output_dir='.', ...   \n",
       "2  def sina_download(url, output_dir='.', merge=T...   \n",
       "3  def sprint(text, *colors):\\n    return \"\\33[{}...   \n",
       "4  def print_log(text, *colors):\\n    sys.stderr....   \n",
       "\n",
       "                                                 ref  \n",
       "0  str - > list Convert XML to URL List . From Bi...  \n",
       "1              Downloads Dailymotion videos by URL .  \n",
       "2                     Downloads Sina videos by URL .  \n",
       "3  Format text with color or other effects into A...  \n",
       "4            Print a log message to standard error .  "
      ]
     },
     "execution_count": 6,
     "metadata": {},
     "output_type": "execute_result"
    }
   ],
   "source": [
    "def inference(doc):\n",
    "    doc[\"ref\"] = [\" \".join(docstring) for docstring in doc[\"docstring_tokens\"]]\n",
    "    return doc    \n",
    "\n",
    "dataset = dataset.map(inference, batched=True)\n",
    "dataset.set_format(type=\"pandas\", columns=[\"ref\", \"code\"])\n",
    "df = dataset[\"test\"][:]\n",
    "df.head()"
   ]
  },
  {
   "cell_type": "code",
   "execution_count": 7,
   "metadata": {},
   "outputs": [],
   "source": [
    "get_preds(df, CodeTFModel(model_name=\"codet5\", model_type=\"base-multi-sum\", task=\"pretrained\"))"
   ]
  },
  {
   "cell_type": "code",
   "execution_count": 8,
   "metadata": {},
   "outputs": [],
   "source": [
    "get_preds(df, CodeTFModel(model_name=\"codet5\", model_type=\"base\", task=\"sum_python\"))"
   ]
  },
  {
   "cell_type": "code",
   "execution_count": 11,
   "metadata": {},
   "outputs": [],
   "source": [
    "get_preds(df, SebisModel(\"SEBIS/code_trans_t5_small_source_code_summarization_python\"))"
   ]
  },
  {
   "cell_type": "code",
   "execution_count": 12,
   "metadata": {},
   "outputs": [],
   "source": [
    "get_preds(df, SebisModel(\"SEBIS/code_trans_t5_small_source_code_summarization_python_transfer_learning_finetune\"))"
   ]
  },
  {
   "cell_type": "code",
   "execution_count": 13,
   "metadata": {},
   "outputs": [],
   "source": [
    "get_preds(df, SebisModel(\"SEBIS/code_trans_t5_small_source_code_summarization_python_multitask\"))"
   ]
  },
  {
   "cell_type": "code",
   "execution_count": 14,
   "metadata": {},
   "outputs": [],
   "source": [
    "get_preds(df, SebisModel(\"SEBIS/code_trans_t5_small_source_code_summarization_python_multitask_finetune\"))"
   ]
  },
  {
   "cell_type": "code",
   "execution_count": 15,
   "metadata": {},
   "outputs": [],
   "source": [
    "get_preds(df, SebisModel(\"SEBIS/code_trans_t5_base_source_code_summarization_python\"))"
   ]
  },
  {
   "cell_type": "code",
   "execution_count": 16,
   "metadata": {},
   "outputs": [],
   "source": [
    "get_preds(df, SebisModel(\"SEBIS/code_trans_t5_base_source_code_summarization_python_transfer_learning_finetune\"))"
   ]
  },
  {
   "cell_type": "code",
   "execution_count": 17,
   "metadata": {},
   "outputs": [],
   "source": [
    "get_preds(df, SebisModel(\"SEBIS/code_trans_t5_base_source_code_summarization_python_multitask\"))"
   ]
  },
  {
   "cell_type": "code",
   "execution_count": 18,
   "metadata": {},
   "outputs": [],
   "source": [
    "get_preds(df, SebisModel(\"SEBIS/code_trans_t5_base_source_code_summarization_python_multitask_finetune\"))"
   ]
  },
  {
   "cell_type": "code",
   "execution_count": 19,
   "metadata": {},
   "outputs": [],
   "source": [
    "get_preds(df, SebisModel(\"SEBIS/code_trans_t5_large_source_code_summarization_python_transfer_learning_finetune\"))"
   ]
  },
  {
   "cell_type": "code",
   "execution_count": 20,
   "metadata": {},
   "outputs": [],
   "source": [
    "get_preds(df, SebisModel(\"SEBIS/code_trans_t5_large_source_code_summarization_python_multitask\"))"
   ]
  },
  {
   "cell_type": "code",
   "execution_count": 21,
   "metadata": {},
   "outputs": [],
   "source": [
    "get_preds(df, SebisModel(\"SEBIS/code_trans_t5_large_source_code_summarization_python_multitask_finetune\"))"
   ]
  },
  {
   "attachments": {},
   "cell_type": "markdown",
   "metadata": {},
   "source": [
    "# Auswertung"
   ]
  },
  {
   "cell_type": "code",
   "execution_count": 34,
   "metadata": {},
   "outputs": [],
   "source": [
    "def get_scores(df: pd.DataFrame, model_name: str):\n",
    "    scorer = rouge_scorer.RougeScorer([\"rouge1\", \"rougeL\"], use_stemmer=True)\n",
    "    scores = [scorer.score(ref, hyp) for ref, hyp in zip(df[\"ref\"].to_list(), df[\"pred\"].to_list())]\n",
    "    rouge1 = sum([score[\"rouge1\"].fmeasure for score in scores]) / len(scores)\n",
    "    rougeL = sum([score[\"rougeL\"].fmeasure for score in scores]) / len(scores)\n",
    "    # meteor = sum([meteor_score([ref], hyp) for ref, hyp in zip(df[\"ref\"].to_list(), df[\"pred\"].to_list())]) / len(df[\"pred\"].to_list())\n",
    "\n",
    "    return pd.DataFrame({\n",
    "        \"bleu\": corpus_bleu(df[\"pred\"].to_list(), [df[\"ref\"].to_list()]).score,\n",
    "        \"chrf\": corpus_chrf(df[\"pred\"].to_list(), [df[\"ref\"].to_list()]).score,\n",
    "        \"ter\": corpus_ter(df[\"pred\"].to_list(), [df[\"ref\"].to_list()]).score,\n",
    "        \"rouge1\": rouge1, \"rougeL\": rougeL\n",
    "    }, index=pd.Index([model_name], name=\"Model\"))"
   ]
  },
  {
   "cell_type": "code",
   "execution_count": 35,
   "metadata": {},
   "outputs": [
    {
     "data": {
      "text/html": [
       "<div>\n",
       "<style scoped>\n",
       "    .dataframe tbody tr th:only-of-type {\n",
       "        vertical-align: middle;\n",
       "    }\n",
       "\n",
       "    .dataframe tbody tr th {\n",
       "        vertical-align: top;\n",
       "    }\n",
       "\n",
       "    .dataframe thead th {\n",
       "        text-align: right;\n",
       "    }\n",
       "</style>\n",
       "<table border=\"1\" class=\"dataframe\">\n",
       "  <thead>\n",
       "    <tr style=\"text-align: right;\">\n",
       "      <th></th>\n",
       "      <th>bleu</th>\n",
       "      <th>chrf</th>\n",
       "      <th>ter</th>\n",
       "      <th>rouge1</th>\n",
       "      <th>rougeL</th>\n",
       "    </tr>\n",
       "  </thead>\n",
       "  <tbody>\n",
       "    <tr>\n",
       "      <th>SEBIS-code_trans_t5_base_source_code_summarization_python.csv</th>\n",
       "      <td>0.483582</td>\n",
       "      <td>10.951082</td>\n",
       "      <td>167.123288</td>\n",
       "      <td>0.042248</td>\n",
       "      <td>0.031722</td>\n",
       "    </tr>\n",
       "    <tr>\n",
       "      <th>SEBIS-code_trans_t5_base_source_code_summarization_python_multitask.csv</th>\n",
       "      <td>2.308839</td>\n",
       "      <td>21.207518</td>\n",
       "      <td>98.630137</td>\n",
       "      <td>0.265339</td>\n",
       "      <td>0.265339</td>\n",
       "    </tr>\n",
       "    <tr>\n",
       "      <th>SEBIS-code_trans_t5_base_source_code_summarization_python_multitask_finetune.csv</th>\n",
       "      <td>1.650644</td>\n",
       "      <td>24.274855</td>\n",
       "      <td>135.616438</td>\n",
       "      <td>0.249998</td>\n",
       "      <td>0.206971</td>\n",
       "    </tr>\n",
       "    <tr>\n",
       "      <th>SEBIS-code_trans_t5_base_source_code_summarization_python_transfer_learning_finetune.csv</th>\n",
       "      <td>1.964073</td>\n",
       "      <td>21.545830</td>\n",
       "      <td>109.589041</td>\n",
       "      <td>0.241978</td>\n",
       "      <td>0.214093</td>\n",
       "    </tr>\n",
       "    <tr>\n",
       "      <th>SEBIS-code_trans_t5_large_source_code_summarization_python_multitask.csv</th>\n",
       "      <td>7.233727</td>\n",
       "      <td>35.369698</td>\n",
       "      <td>104.109589</td>\n",
       "      <td>0.383260</td>\n",
       "      <td>0.361623</td>\n",
       "    </tr>\n",
       "    <tr>\n",
       "      <th>SEBIS-code_trans_t5_large_source_code_summarization_python_multitask_finetune.csv</th>\n",
       "      <td>1.587535</td>\n",
       "      <td>29.586688</td>\n",
       "      <td>120.547945</td>\n",
       "      <td>0.288733</td>\n",
       "      <td>0.243134</td>\n",
       "    </tr>\n",
       "    <tr>\n",
       "      <th>SEBIS-code_trans_t5_large_source_code_summarization_python_transfer_learning_finetune.csv</th>\n",
       "      <td>1.789650</td>\n",
       "      <td>25.225251</td>\n",
       "      <td>95.890411</td>\n",
       "      <td>0.288737</td>\n",
       "      <td>0.275404</td>\n",
       "    </tr>\n",
       "    <tr>\n",
       "      <th>SEBIS-code_trans_t5_small_source_code_summarization_python.csv</th>\n",
       "      <td>0.665183</td>\n",
       "      <td>11.690047</td>\n",
       "      <td>142.465753</td>\n",
       "      <td>0.025833</td>\n",
       "      <td>0.025833</td>\n",
       "    </tr>\n",
       "    <tr>\n",
       "      <th>SEBIS-code_trans_t5_small_source_code_summarization_python_multitask.csv</th>\n",
       "      <td>3.668414</td>\n",
       "      <td>22.595346</td>\n",
       "      <td>93.150685</td>\n",
       "      <td>0.371140</td>\n",
       "      <td>0.354473</td>\n",
       "    </tr>\n",
       "    <tr>\n",
       "      <th>SEBIS-code_trans_t5_small_source_code_summarization_python_multitask_finetune.csv</th>\n",
       "      <td>2.907154</td>\n",
       "      <td>20.997844</td>\n",
       "      <td>121.917808</td>\n",
       "      <td>0.267328</td>\n",
       "      <td>0.225341</td>\n",
       "    </tr>\n",
       "    <tr>\n",
       "      <th>SEBIS-code_trans_t5_small_source_code_summarization_python_transfer_learning_finetune.csv</th>\n",
       "      <td>1.491062</td>\n",
       "      <td>19.351947</td>\n",
       "      <td>121.917808</td>\n",
       "      <td>0.145769</td>\n",
       "      <td>0.130385</td>\n",
       "    </tr>\n",
       "    <tr>\n",
       "      <th>codet5-base-multi-sum-pretrained.csv</th>\n",
       "      <td>9.937088</td>\n",
       "      <td>37.473259</td>\n",
       "      <td>104.109589</td>\n",
       "      <td>0.433683</td>\n",
       "      <td>0.411461</td>\n",
       "    </tr>\n",
       "    <tr>\n",
       "      <th>codet5-base-sum_python.csv</th>\n",
       "      <td>3.190363</td>\n",
       "      <td>28.114145</td>\n",
       "      <td>98.630137</td>\n",
       "      <td>0.354147</td>\n",
       "      <td>0.324855</td>\n",
       "    </tr>\n",
       "  </tbody>\n",
       "</table>\n",
       "</div>"
      ],
      "text/plain": [
       "                                                        bleu       chrf  \\\n",
       "SEBIS-code_trans_t5_base_source_code_summarizat...  0.483582  10.951082   \n",
       "SEBIS-code_trans_t5_base_source_code_summarizat...  2.308839  21.207518   \n",
       "SEBIS-code_trans_t5_base_source_code_summarizat...  1.650644  24.274855   \n",
       "SEBIS-code_trans_t5_base_source_code_summarizat...  1.964073  21.545830   \n",
       "SEBIS-code_trans_t5_large_source_code_summariza...  7.233727  35.369698   \n",
       "SEBIS-code_trans_t5_large_source_code_summariza...  1.587535  29.586688   \n",
       "SEBIS-code_trans_t5_large_source_code_summariza...  1.789650  25.225251   \n",
       "SEBIS-code_trans_t5_small_source_code_summariza...  0.665183  11.690047   \n",
       "SEBIS-code_trans_t5_small_source_code_summariza...  3.668414  22.595346   \n",
       "SEBIS-code_trans_t5_small_source_code_summariza...  2.907154  20.997844   \n",
       "SEBIS-code_trans_t5_small_source_code_summariza...  1.491062  19.351947   \n",
       "codet5-base-multi-sum-pretrained.csv                9.937088  37.473259   \n",
       "codet5-base-sum_python.csv                          3.190363  28.114145   \n",
       "\n",
       "                                                           ter    rouge1  \\\n",
       "SEBIS-code_trans_t5_base_source_code_summarizat...  167.123288  0.042248   \n",
       "SEBIS-code_trans_t5_base_source_code_summarizat...   98.630137  0.265339   \n",
       "SEBIS-code_trans_t5_base_source_code_summarizat...  135.616438  0.249998   \n",
       "SEBIS-code_trans_t5_base_source_code_summarizat...  109.589041  0.241978   \n",
       "SEBIS-code_trans_t5_large_source_code_summariza...  104.109589  0.383260   \n",
       "SEBIS-code_trans_t5_large_source_code_summariza...  120.547945  0.288733   \n",
       "SEBIS-code_trans_t5_large_source_code_summariza...   95.890411  0.288737   \n",
       "SEBIS-code_trans_t5_small_source_code_summariza...  142.465753  0.025833   \n",
       "SEBIS-code_trans_t5_small_source_code_summariza...   93.150685  0.371140   \n",
       "SEBIS-code_trans_t5_small_source_code_summariza...  121.917808  0.267328   \n",
       "SEBIS-code_trans_t5_small_source_code_summariza...  121.917808  0.145769   \n",
       "codet5-base-multi-sum-pretrained.csv                104.109589  0.433683   \n",
       "codet5-base-sum_python.csv                           98.630137  0.354147   \n",
       "\n",
       "                                                      rougeL  \n",
       "SEBIS-code_trans_t5_base_source_code_summarizat...  0.031722  \n",
       "SEBIS-code_trans_t5_base_source_code_summarizat...  0.265339  \n",
       "SEBIS-code_trans_t5_base_source_code_summarizat...  0.206971  \n",
       "SEBIS-code_trans_t5_base_source_code_summarizat...  0.214093  \n",
       "SEBIS-code_trans_t5_large_source_code_summariza...  0.361623  \n",
       "SEBIS-code_trans_t5_large_source_code_summariza...  0.243134  \n",
       "SEBIS-code_trans_t5_large_source_code_summariza...  0.275404  \n",
       "SEBIS-code_trans_t5_small_source_code_summariza...  0.025833  \n",
       "SEBIS-code_trans_t5_small_source_code_summariza...  0.354473  \n",
       "SEBIS-code_trans_t5_small_source_code_summariza...  0.225341  \n",
       "SEBIS-code_trans_t5_small_source_code_summariza...  0.130385  \n",
       "codet5-base-multi-sum-pretrained.csv                0.411461  \n",
       "codet5-base-sum_python.csv                          0.324855  "
      ]
     },
     "execution_count": 35,
     "metadata": {},
     "output_type": "execute_result"
    }
   ],
   "source": [
    "df = pd.DataFrame(columns=[\"bleu\", \"chrf\", \"ter\"])\n",
    "\n",
    "for csv_file in sorted((root_dir / \"data\" / \"preds\").glob(\"*.csv\"), key=lambda f: f.name):\n",
    "    df = pd.concat([df, get_scores(pd.read_csv(csv_file, index_col=0), csv_file.name)])\n",
    "\n",
    "df"
   ]
  },
  {
   "cell_type": "code",
   "execution_count": null,
   "metadata": {},
   "outputs": [],
   "source": []
  }
 ],
 "metadata": {
  "kernelspec": {
   "display_name": "codetf",
   "language": "python",
   "name": "python3"
  },
  "language_info": {
   "codemirror_mode": {
    "name": "ipython",
    "version": 3
   },
   "file_extension": ".py",
   "mimetype": "text/x-python",
   "name": "python",
   "nbconvert_exporter": "python",
   "pygments_lexer": "ipython3",
   "version": "3.10.11"
  },
  "orig_nbformat": 4
 },
 "nbformat": 4,
 "nbformat_minor": 2
}

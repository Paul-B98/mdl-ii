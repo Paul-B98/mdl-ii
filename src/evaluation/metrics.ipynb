{
 "cells": [
  {
   "cell_type": "code",
   "execution_count": 1,
   "metadata": {},
   "outputs": [
    {
     "name": "stderr",
     "output_type": "stream",
     "text": [
      "/home/paul/.conda/envs/codetf/lib/python3.10/site-packages/tqdm/auto.py:22: TqdmWarning: IProgress not found. Please update jupyter and ipywidgets. See https://ipywidgets.readthedocs.io/en/stable/user_install.html\n",
      "  from .autonotebook import tqdm as notebook_tqdm\n"
     ]
    }
   ],
   "source": [
    "from abc import ABC\n",
    "from pathlib import Path\n",
    "\n",
    "import pandas as pd\n",
    "from codetf.models import load_model_pipeline\n",
    "from sacrebleu import corpus_bleu, corpus_chrf, corpus_ter\n",
    "from datasets import load_dataset\n",
    "from transformers import AutoTokenizer, AutoModelWithLMHead, SummarizationPipeline"
   ]
  },
  {
   "cell_type": "code",
   "execution_count": 2,
   "metadata": {},
   "outputs": [],
   "source": [
    "root_dir = Path.cwd()"
   ]
  },
  {
   "cell_type": "code",
   "execution_count": 24,
   "metadata": {},
   "outputs": [],
   "source": [
    "class AbstractModel(ABC):\n",
    "    def predict(self, code: str) -> str:\n",
    "        raise NotImplementedError()\n",
    "    \n",
    "    def model_name(self) -> str:\n",
    "        raise NotImplementedError()\n",
    "    \n",
    "class CodeTFModel(AbstractModel):\n",
    "    def __init__(self, model_name: str, model_type: str, task: str) -> None:\n",
    "        super().__init__()\n",
    "\n",
    "        self._model = load_model_pipeline(model_name=model_name, model_type=model_type, task=task)\n",
    "        self._model_name = model_name\n",
    "        self._model_type = model_type\n",
    "        self._task = task\n",
    "\n",
    "    def predict(self, code: str) -> str:\n",
    "        return self._model.predict([code])[0]\n",
    "    \n",
    "    def model_name(self) -> str:\n",
    "        return f\"{self._model_name}-{self._model_type}-{self._task}\"\n",
    "    \n",
    "class SebisModel(AbstractModel):\n",
    "    def __init__(self, model_name: str) -> None:\n",
    "        super().__init__()\n",
    "\n",
    "        self._pipeline = SummarizationPipeline(\n",
    "            model=AutoModelWithLMHead.from_pretrained(model_name),\n",
    "            tokenizer=AutoTokenizer.from_pretrained(model_name, skip_special_tokens=True),\n",
    "            device=0\n",
    "        )\n",
    "        self._model_name = model_name\n",
    "\n",
    "    def predict(self, code: str) -> str:\n",
    "        return self._pipeline([code])[0][\"summary_text\"]\n",
    "    \n",
    "    def model_name(self) -> str:\n",
    "        return self._model_name"
   ]
  },
  {
   "cell_type": "code",
   "execution_count": 35,
   "metadata": {},
   "outputs": [],
   "source": [
    "def get_preds(df: pd.DataFrame, model: AbstractModel):\n",
    "    file_path = root_dir / \"data\" / \"preds\" / f\"{model.model_name()}.csv\"\n",
    "    \n",
    "    if file_path.exists():\n",
    "        return\n",
    "\n",
    "    df = df.copy()\n",
    "    df[\"pred\"] = df[\"code\"].map(model.predict)\n",
    "    df[[\"ref\", \"pred\"]].to_csv(file_path)"
   ]
  },
  {
   "cell_type": "code",
   "execution_count": 15,
   "metadata": {},
   "outputs": [
    {
     "name": "stderr",
     "output_type": "stream",
     "text": [
      "Found cached dataset json (/home/paul/projects/edu/master/mdl-ii/src/data/cache/json/default-acdd91729f392843/0.0.0/e347ab1c932092252e717ff3f949105a4dd28b27e842dd53157d2f72e276c2e4)\n",
      "100%|██████████| 1/1 [00:00<00:00, 19.26it/s]\n"
     ]
    }
   ],
   "source": [
    "dataset = load_dataset(\"json\", data_files={\n",
    "    \"test\": str(root_dir.parent / \"data\" / \"test.jsonl\"),\n",
    "}, cache_dir=root_dir.parent / \"data\" / \"cache\")"
   ]
  },
  {
   "cell_type": "code",
   "execution_count": 16,
   "metadata": {},
   "outputs": [
    {
     "name": "stderr",
     "output_type": "stream",
     "text": [
      "Loading cached processed dataset at /home/paul/projects/edu/master/mdl-ii/src/data/cache/json/default-acdd91729f392843/0.0.0/e347ab1c932092252e717ff3f949105a4dd28b27e842dd53157d2f72e276c2e4/cache-e06db1d51f6ed421.arrow\n"
     ]
    },
    {
     "data": {
      "text/html": [
       "<div>\n",
       "<style scoped>\n",
       "    .dataframe tbody tr th:only-of-type {\n",
       "        vertical-align: middle;\n",
       "    }\n",
       "\n",
       "    .dataframe tbody tr th {\n",
       "        vertical-align: top;\n",
       "    }\n",
       "\n",
       "    .dataframe thead th {\n",
       "        text-align: right;\n",
       "    }\n",
       "</style>\n",
       "<table border=\"1\" class=\"dataframe\">\n",
       "  <thead>\n",
       "    <tr style=\"text-align: right;\">\n",
       "      <th></th>\n",
       "      <th>code</th>\n",
       "      <th>ref</th>\n",
       "    </tr>\n",
       "  </thead>\n",
       "  <tbody>\n",
       "    <tr>\n",
       "      <th>0</th>\n",
       "      <td>def sina_xml_to_url_list(xml_data):\\n    rawur...</td>\n",
       "      <td>str - &gt; list Convert XML to URL List . From Bi...</td>\n",
       "    </tr>\n",
       "    <tr>\n",
       "      <th>1</th>\n",
       "      <td>def dailymotion_download(url, output_dir='.', ...</td>\n",
       "      <td>Downloads Dailymotion videos by URL .</td>\n",
       "    </tr>\n",
       "    <tr>\n",
       "      <th>2</th>\n",
       "      <td>def sina_download(url, output_dir='.', merge=T...</td>\n",
       "      <td>Downloads Sina videos by URL .</td>\n",
       "    </tr>\n",
       "    <tr>\n",
       "      <th>3</th>\n",
       "      <td>def sprint(text, *colors):\\n    return \"\\33[{}...</td>\n",
       "      <td>Format text with color or other effects into A...</td>\n",
       "    </tr>\n",
       "    <tr>\n",
       "      <th>4</th>\n",
       "      <td>def print_log(text, *colors):\\n    sys.stderr....</td>\n",
       "      <td>Print a log message to standard error .</td>\n",
       "    </tr>\n",
       "  </tbody>\n",
       "</table>\n",
       "</div>"
      ],
      "text/plain": [
       "                                                code  \\\n",
       "0  def sina_xml_to_url_list(xml_data):\\n    rawur...   \n",
       "1  def dailymotion_download(url, output_dir='.', ...   \n",
       "2  def sina_download(url, output_dir='.', merge=T...   \n",
       "3  def sprint(text, *colors):\\n    return \"\\33[{}...   \n",
       "4  def print_log(text, *colors):\\n    sys.stderr....   \n",
       "\n",
       "                                                 ref  \n",
       "0  str - > list Convert XML to URL List . From Bi...  \n",
       "1              Downloads Dailymotion videos by URL .  \n",
       "2                     Downloads Sina videos by URL .  \n",
       "3  Format text with color or other effects into A...  \n",
       "4            Print a log message to standard error .  "
      ]
     },
     "execution_count": 16,
     "metadata": {},
     "output_type": "execute_result"
    }
   ],
   "source": [
    "def inference(doc):\n",
    "    doc[\"ref\"] = [\" \".join(docstring) for docstring in doc[\"docstring_tokens\"]]\n",
    "    return doc    \n",
    "\n",
    "dataset = dataset.map(inference, batched=True)\n",
    "dataset.set_format(type=\"pandas\", columns=[\"ref\", \"code\"])\n",
    "df = dataset[\"test\"][:]\n",
    "df.head()"
   ]
  },
  {
   "cell_type": "code",
   "execution_count": 37,
   "metadata": {},
   "outputs": [
    {
     "name": "stderr",
     "output_type": "stream",
     "text": [
      "Token indices sequence length is longer than the specified maximum sequence length for this model (645 > 512). Running this sequence through the model will result in indexing errors\n"
     ]
    }
   ],
   "source": [
    "get_preds(df, CodeTFModel(model_name=\"codet5\", model_type=\"base-multi-sum\", task=\"pretrained\"))"
   ]
  },
  {
   "cell_type": "code",
   "execution_count": 34,
   "metadata": {},
   "outputs": [
    {
     "data": {
      "text/html": [
       "<div>\n",
       "<style scoped>\n",
       "    .dataframe tbody tr th:only-of-type {\n",
       "        vertical-align: middle;\n",
       "    }\n",
       "\n",
       "    .dataframe tbody tr th {\n",
       "        vertical-align: top;\n",
       "    }\n",
       "\n",
       "    .dataframe thead th {\n",
       "        text-align: right;\n",
       "    }\n",
       "</style>\n",
       "<table border=\"1\" class=\"dataframe\">\n",
       "  <thead>\n",
       "    <tr style=\"text-align: right;\">\n",
       "      <th></th>\n",
       "      <th>ref</th>\n",
       "      <th>pred</th>\n",
       "    </tr>\n",
       "  </thead>\n",
       "  <tbody>\n",
       "    <tr>\n",
       "      <th>0</th>\n",
       "      <td>str - &gt; list Convert XML to URL List . From Bi...</td>\n",
       "      <td>Convert Sina XML to a list of URL strings.</td>\n",
       "    </tr>\n",
       "    <tr>\n",
       "      <th>1</th>\n",
       "      <td>Downloads Dailymotion videos by URL .</td>\n",
       "      <td>Download a dailymotion web page.</td>\n",
       "    </tr>\n",
       "    <tr>\n",
       "      <th>2</th>\n",
       "      <td>Downloads Sina videos by URL .</td>\n",
       "      <td>Download a Sina video.</td>\n",
       "    </tr>\n",
       "    <tr>\n",
       "      <th>3</th>\n",
       "      <td>Format text with color or other effects into A...</td>\n",
       "      <td>Print text with ANSI escape sequences.</td>\n",
       "    </tr>\n",
       "    <tr>\n",
       "      <th>4</th>\n",
       "      <td>Print a log message to standard error .</td>\n",
       "      <td>Print a log message to stderr.</td>\n",
       "    </tr>\n",
       "    <tr>\n",
       "      <th>5</th>\n",
       "      <td>Print an error log message .</td>\n",
       "      <td>Print a message to the console and exit with a...</td>\n",
       "    </tr>\n",
       "    <tr>\n",
       "      <th>6</th>\n",
       "      <td>What a Terrible Failure!</td>\n",
       "      <td>Print a message to the console and exit with a...</td>\n",
       "    </tr>\n",
       "    <tr>\n",
       "      <th>7</th>\n",
       "      <td>Detect operating system .</td>\n",
       "      <td>Detect the operating system.</td>\n",
       "    </tr>\n",
       "    <tr>\n",
       "      <th>8</th>\n",
       "      <td>str - &gt; None</td>\n",
       "      <td>Download a vimeo file from a channel.</td>\n",
       "    </tr>\n",
       "    <tr>\n",
       "      <th>9</th>\n",
       "      <td>str - &gt; dict Information for CKPlayer API cont...</td>\n",
       "      <td>Get ckplayer info by XML.</td>\n",
       "    </tr>\n",
       "  </tbody>\n",
       "</table>\n",
       "</div>"
      ],
      "text/plain": [
       "                                                 ref  \\\n",
       "0  str - > list Convert XML to URL List . From Bi...   \n",
       "1              Downloads Dailymotion videos by URL .   \n",
       "2                     Downloads Sina videos by URL .   \n",
       "3  Format text with color or other effects into A...   \n",
       "4            Print a log message to standard error .   \n",
       "5                       Print an error log message .   \n",
       "6                           What a Terrible Failure!   \n",
       "7                          Detect operating system .   \n",
       "8                                       str - > None   \n",
       "9  str - > dict Information for CKPlayer API cont...   \n",
       "\n",
       "                                                pred  \n",
       "0         Convert Sina XML to a list of URL strings.  \n",
       "1                   Download a dailymotion web page.  \n",
       "2                             Download a Sina video.  \n",
       "3             Print text with ANSI escape sequences.  \n",
       "4                     Print a log message to stderr.  \n",
       "5  Print a message to the console and exit with a...  \n",
       "6  Print a message to the console and exit with a...  \n",
       "7                       Detect the operating system.  \n",
       "8              Download a vimeo file from a channel.  \n",
       "9                          Get ckplayer info by XML.  "
      ]
     },
     "execution_count": 34,
     "metadata": {},
     "output_type": "execute_result"
    }
   ],
   "source": [
    "pd.read_csv(root_dir / \"data\" / \"preds\" / f'{CodeTFModel(model_name=\"codet5\", model_type=\"base-multi-sum\", task=\"pretrained\").model_name()}.csv', index_col=0)"
   ]
  }
 ],
 "metadata": {
  "kernelspec": {
   "display_name": "codetf",
   "language": "python",
   "name": "python3"
  },
  "language_info": {
   "codemirror_mode": {
    "name": "ipython",
    "version": 3
   },
   "file_extension": ".py",
   "mimetype": "text/x-python",
   "name": "python",
   "nbconvert_exporter": "python",
   "pygments_lexer": "ipython3",
   "version": "3.10.11"
  },
  "orig_nbformat": 4
 },
 "nbformat": 4,
 "nbformat_minor": 2
}

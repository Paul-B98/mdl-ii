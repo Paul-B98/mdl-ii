{
 "cells": [
  {
   "cell_type": "code",
   "execution_count": 1,
   "metadata": {},
   "outputs": [
    {
     "name": "stderr",
     "output_type": "stream",
     "text": [
      "/home/paul/.conda/envs/tf/lib/python3.10/site-packages/requests/__init__.py:109: RequestsDependencyWarning: urllib3 (1.26.15) or chardet (None)/charset_normalizer (3.1.0) doesn't match a supported version!\n",
      "  warnings.warn(\n"
     ]
    }
   ],
   "source": [
    "import pandas as pd\n",
    "\n",
    "from pathlib import Path\n",
    "\n",
    "from datasets import load_dataset"
   ]
  },
  {
   "cell_type": "code",
   "execution_count": 10,
   "metadata": {},
   "outputs": [],
   "source": [
    "%matplotlib inline"
   ]
  },
  {
   "cell_type": "code",
   "execution_count": 3,
   "metadata": {},
   "outputs": [
    {
     "name": "stderr",
     "output_type": "stream",
     "text": [
      "Found cached dataset json (/home/paul/projects/edu/master/mdl-ii/src/data/cache/semeru___json/semeru--code-text-python-047c4cae5928dad3/0.0.0/e347ab1c932092252e717ff3f949105a4dd28b27e842dd53157d2f72e276c2e4)\n"
     ]
    },
    {
     "data": {
      "application/vnd.jupyter.widget-view+json": {
       "model_id": "c9b7ba5d24b74d9d8cb6e0679b58afef",
       "version_major": 2,
       "version_minor": 0
      },
      "text/plain": [
       "  0%|          | 0/3 [00:00<?, ?it/s]"
      ]
     },
     "metadata": {},
     "output_type": "display_data"
    }
   ],
   "source": [
    "root_dir = Path.cwd()\n",
    "dataset = load_dataset(\"semeru/code-text-python\", cache_dir=root_dir / \"data\" / \"cache\")"
   ]
  },
  {
   "cell_type": "code",
   "execution_count": 4,
   "metadata": {},
   "outputs": [],
   "source": [
    "dataset.set_format(type=\"pandas\")\n",
    "train_df = dataset[\"train\"][:]\n",
    "test_df = dataset[\"test\"][:]\n",
    "validation_df = dataset[\"validation\"][:]"
   ]
  },
  {
   "attachments": {},
   "cell_type": "markdown",
   "metadata": {},
   "source": [
    "# Data Understanding"
   ]
  },
  {
   "cell_type": "code",
   "execution_count": 5,
   "metadata": {},
   "outputs": [],
   "source": [
    "df = pd.concat([train_df, test_df, validation_df])"
   ]
  },
  {
   "cell_type": "code",
   "execution_count": 13,
   "metadata": {},
   "outputs": [
    {
     "data": {
      "text/html": [
       "<div>\n",
       "<style scoped>\n",
       "    .dataframe tbody tr th:only-of-type {\n",
       "        vertical-align: middle;\n",
       "    }\n",
       "\n",
       "    .dataframe tbody tr th {\n",
       "        vertical-align: top;\n",
       "    }\n",
       "\n",
       "    .dataframe thead th {\n",
       "        text-align: right;\n",
       "    }\n",
       "</style>\n",
       "<table border=\"1\" class=\"dataframe\">\n",
       "  <thead>\n",
       "    <tr style=\"text-align: right;\">\n",
       "      <th></th>\n",
       "      <th>repo</th>\n",
       "      <th>path</th>\n",
       "      <th>func_name</th>\n",
       "      <th>original_string</th>\n",
       "      <th>language</th>\n",
       "      <th>code</th>\n",
       "      <th>code_tokens</th>\n",
       "      <th>docstring</th>\n",
       "      <th>docstring_tokens</th>\n",
       "      <th>sha</th>\n",
       "      <th>url</th>\n",
       "      <th>partition</th>\n",
       "    </tr>\n",
       "  </thead>\n",
       "  <tbody>\n",
       "    <tr>\n",
       "      <th>0</th>\n",
       "      <td>smdabdoub/phylotoast</td>\n",
       "      <td>phylotoast/util.py</td>\n",
       "      <td>split_phylogeny</td>\n",
       "      <td>def split_phylogeny(p, level=\"s\"):\\n    \"\"\"\\n ...</td>\n",
       "      <td>python</td>\n",
       "      <td>def split_phylogeny(p, level=\"s\"):\\n    \"\"\"\\n ...</td>\n",
       "      <td>[def, split_phylogeny, (, p, ,, level, =, \"s\",...</td>\n",
       "      <td>Return either the full or truncated version of...</td>\n",
       "      <td>[Return, either, the, full, or, truncated, ver...</td>\n",
       "      <td>0b74ef171e6a84761710548501dfac71285a58a3</td>\n",
       "      <td>https://github.com/smdabdoub/phylotoast/blob/0...</td>\n",
       "      <td>train</td>\n",
       "    </tr>\n",
       "    <tr>\n",
       "      <th>1</th>\n",
       "      <td>smdabdoub/phylotoast</td>\n",
       "      <td>phylotoast/util.py</td>\n",
       "      <td>ensure_dir</td>\n",
       "      <td>def ensure_dir(d):\\n    \"\"\"\\n    Check to make...</td>\n",
       "      <td>python</td>\n",
       "      <td>def ensure_dir(d):\\n    \"\"\"\\n    Check to make...</td>\n",
       "      <td>[def, ensure_dir, (, d, ), :, if, not, os, ., ...</td>\n",
       "      <td>Check to make sure the supplied directory path...</td>\n",
       "      <td>[Check, to, make, sure, the, supplied, directo...</td>\n",
       "      <td>0b74ef171e6a84761710548501dfac71285a58a3</td>\n",
       "      <td>https://github.com/smdabdoub/phylotoast/blob/0...</td>\n",
       "      <td>train</td>\n",
       "    </tr>\n",
       "    <tr>\n",
       "      <th>2</th>\n",
       "      <td>smdabdoub/phylotoast</td>\n",
       "      <td>phylotoast/util.py</td>\n",
       "      <td>file_handle</td>\n",
       "      <td>def file_handle(fnh, mode=\"rU\"):\\n    \"\"\"\\n   ...</td>\n",
       "      <td>python</td>\n",
       "      <td>def file_handle(fnh, mode=\"rU\"):\\n    \"\"\"\\n   ...</td>\n",
       "      <td>[def, file_handle, (, fnh, ,, mode, =, \"rU\", )...</td>\n",
       "      <td>Takes either a file path or an open file handl...</td>\n",
       "      <td>[Takes, either, a, file, path, or, an, open, f...</td>\n",
       "      <td>0b74ef171e6a84761710548501dfac71285a58a3</td>\n",
       "      <td>https://github.com/smdabdoub/phylotoast/blob/0...</td>\n",
       "      <td>train</td>\n",
       "    </tr>\n",
       "    <tr>\n",
       "      <th>3</th>\n",
       "      <td>smdabdoub/phylotoast</td>\n",
       "      <td>phylotoast/util.py</td>\n",
       "      <td>gather_categories</td>\n",
       "      <td>def gather_categories(imap, header, categories...</td>\n",
       "      <td>python</td>\n",
       "      <td>def gather_categories(imap, header, categories...</td>\n",
       "      <td>[def, gather_categories, (, imap, ,, header, ,...</td>\n",
       "      <td>Find the user specified categories in the map ...</td>\n",
       "      <td>[Find, the, user, specified, categories, in, t...</td>\n",
       "      <td>0b74ef171e6a84761710548501dfac71285a58a3</td>\n",
       "      <td>https://github.com/smdabdoub/phylotoast/blob/0...</td>\n",
       "      <td>train</td>\n",
       "    </tr>\n",
       "    <tr>\n",
       "      <th>4</th>\n",
       "      <td>smdabdoub/phylotoast</td>\n",
       "      <td>phylotoast/util.py</td>\n",
       "      <td>parse_unifrac</td>\n",
       "      <td>def parse_unifrac(unifracFN):\\n    \"\"\"\\n    Pa...</td>\n",
       "      <td>python</td>\n",
       "      <td>def parse_unifrac(unifracFN):\\n    \"\"\"\\n    Pa...</td>\n",
       "      <td>[def, parse_unifrac, (, unifracFN, ), :, with,...</td>\n",
       "      <td>Parses the unifrac results file into a diction...</td>\n",
       "      <td>[Parses, the, unifrac, results, file, into, a,...</td>\n",
       "      <td>0b74ef171e6a84761710548501dfac71285a58a3</td>\n",
       "      <td>https://github.com/smdabdoub/phylotoast/blob/0...</td>\n",
       "      <td>train</td>\n",
       "    </tr>\n",
       "  </tbody>\n",
       "</table>\n",
       "</div>"
      ],
      "text/plain": [
       "                   repo                path          func_name  \\\n",
       "0  smdabdoub/phylotoast  phylotoast/util.py    split_phylogeny   \n",
       "1  smdabdoub/phylotoast  phylotoast/util.py         ensure_dir   \n",
       "2  smdabdoub/phylotoast  phylotoast/util.py        file_handle   \n",
       "3  smdabdoub/phylotoast  phylotoast/util.py  gather_categories   \n",
       "4  smdabdoub/phylotoast  phylotoast/util.py      parse_unifrac   \n",
       "\n",
       "                                     original_string language  \\\n",
       "0  def split_phylogeny(p, level=\"s\"):\\n    \"\"\"\\n ...   python   \n",
       "1  def ensure_dir(d):\\n    \"\"\"\\n    Check to make...   python   \n",
       "2  def file_handle(fnh, mode=\"rU\"):\\n    \"\"\"\\n   ...   python   \n",
       "3  def gather_categories(imap, header, categories...   python   \n",
       "4  def parse_unifrac(unifracFN):\\n    \"\"\"\\n    Pa...   python   \n",
       "\n",
       "                                                code  \\\n",
       "0  def split_phylogeny(p, level=\"s\"):\\n    \"\"\"\\n ...   \n",
       "1  def ensure_dir(d):\\n    \"\"\"\\n    Check to make...   \n",
       "2  def file_handle(fnh, mode=\"rU\"):\\n    \"\"\"\\n   ...   \n",
       "3  def gather_categories(imap, header, categories...   \n",
       "4  def parse_unifrac(unifracFN):\\n    \"\"\"\\n    Pa...   \n",
       "\n",
       "                                         code_tokens  \\\n",
       "0  [def, split_phylogeny, (, p, ,, level, =, \"s\",...   \n",
       "1  [def, ensure_dir, (, d, ), :, if, not, os, ., ...   \n",
       "2  [def, file_handle, (, fnh, ,, mode, =, \"rU\", )...   \n",
       "3  [def, gather_categories, (, imap, ,, header, ,...   \n",
       "4  [def, parse_unifrac, (, unifracFN, ), :, with,...   \n",
       "\n",
       "                                           docstring  \\\n",
       "0  Return either the full or truncated version of...   \n",
       "1  Check to make sure the supplied directory path...   \n",
       "2  Takes either a file path or an open file handl...   \n",
       "3  Find the user specified categories in the map ...   \n",
       "4  Parses the unifrac results file into a diction...   \n",
       "\n",
       "                                    docstring_tokens  \\\n",
       "0  [Return, either, the, full, or, truncated, ver...   \n",
       "1  [Check, to, make, sure, the, supplied, directo...   \n",
       "2  [Takes, either, a, file, path, or, an, open, f...   \n",
       "3  [Find, the, user, specified, categories, in, t...   \n",
       "4  [Parses, the, unifrac, results, file, into, a,...   \n",
       "\n",
       "                                        sha  \\\n",
       "0  0b74ef171e6a84761710548501dfac71285a58a3   \n",
       "1  0b74ef171e6a84761710548501dfac71285a58a3   \n",
       "2  0b74ef171e6a84761710548501dfac71285a58a3   \n",
       "3  0b74ef171e6a84761710548501dfac71285a58a3   \n",
       "4  0b74ef171e6a84761710548501dfac71285a58a3   \n",
       "\n",
       "                                                 url partition  \n",
       "0  https://github.com/smdabdoub/phylotoast/blob/0...     train  \n",
       "1  https://github.com/smdabdoub/phylotoast/blob/0...     train  \n",
       "2  https://github.com/smdabdoub/phylotoast/blob/0...     train  \n",
       "3  https://github.com/smdabdoub/phylotoast/blob/0...     train  \n",
       "4  https://github.com/smdabdoub/phylotoast/blob/0...     train  "
      ]
     },
     "execution_count": 13,
     "metadata": {},
     "output_type": "execute_result"
    }
   ],
   "source": [
    "df.head()"
   ]
  },
  {
   "attachments": {},
   "cell_type": "markdown",
   "metadata": {},
   "source": [
    "## Features\n",
    "\n",
    "> * **repo**: the owner/repo\n",
    "> * **path**: the full path to the original file\n",
    "> * **func_name**: the function or method name\n",
    "> * **original_string**: the raw string before tokenization or parsing\n",
    "> * **language**: the programming language\n",
    "> * **code**: the part of the original_string that is code\n",
    "> * **code_tokens**: tokenized version of code\n",
    "> * **docstring**: the top-level comment or docstring, if it exists in the original string\n",
    "> * **docstring_tokens**: tokenized version of docstring\n",
    "> * **sha**: this field is not being used [TODO: add note on where this comes from?]\n",
    "> * **partition**: a flag indicating what partition this datum belongs to of {train, valid, test, etc.} This is not used by the model. Instead we rely on directory structure to denote the partition of the data.\n",
    "> * **url**: the url for the code snippet including the line numbers\n",
    "\n",
    "Quelle: [CodeSearchNet](https://github.com/github/CodeSearchNet#evaluation)\n",
    "\n",
    "Bei dem verwendeten Datensatz handelt es sich um den CodeSearchNet Datensatz, welcher die oben beschriebenen Features <br>\n",
    "enthält. Hierbei wurden an dem Datensatz vom SEMERU Lab folgende Anpassungen vorgenommen:\n",
    "\n",
    "\n",
    "> * Remove examples that codes cannot be parsed into an abstract syntax tree.\n",
    "> * Remove examples that #tokens of documents is < 3 or >256\n",
    "> * Remove examples that documents contain special tokens (e.g. <img ...> or https:...)\n",
    "> * Remove examples that documents are not English.\n",
    "\n",
    "Quelle: [SEMERU Lab](https://huggingface.co/datasets/semeru/code-text-python)"
   ]
  },
  {
   "attachments": {},
   "cell_type": "markdown",
   "metadata": {},
   "source": [
    "### Feature: repo\n",
    "\n",
    "Hierbei handelt es sich um den Github Pfad zum Repository. Dieser besteht aus einem Benutzername und dem Namen des <br>\n",
    "Repository getrennt durch einen Schrägstrich. Das Feature enthält keine Null-Werte hat aber für die weitere Analyse <br>\n",
    "keine Relevanz."
   ]
  },
  {
   "cell_type": "code",
   "execution_count": 9,
   "metadata": {},
   "outputs": [
    {
     "data": {
      "text/plain": [
       "False"
      ]
     },
     "execution_count": 9,
     "metadata": {},
     "output_type": "execute_result"
    }
   ],
   "source": [
    "df[\"repo\"].isna().values.any()"
   ]
  },
  {
   "attachments": {},
   "cell_type": "markdown",
   "metadata": {},
   "source": [
    "### Feature: "
   ]
  },
  {
   "cell_type": "code",
   "execution_count": null,
   "metadata": {},
   "outputs": [],
   "source": []
  },
  {
   "attachments": {},
   "cell_type": "markdown",
   "metadata": {},
   "source": [
    "### Feature: "
   ]
  },
  {
   "cell_type": "code",
   "execution_count": null,
   "metadata": {},
   "outputs": [],
   "source": []
  },
  {
   "attachments": {},
   "cell_type": "markdown",
   "metadata": {},
   "source": [
    "### Feature: "
   ]
  },
  {
   "cell_type": "code",
   "execution_count": null,
   "metadata": {},
   "outputs": [],
   "source": []
  },
  {
   "attachments": {},
   "cell_type": "markdown",
   "metadata": {},
   "source": [
    "### Feature: "
   ]
  },
  {
   "cell_type": "code",
   "execution_count": null,
   "metadata": {},
   "outputs": [],
   "source": []
  },
  {
   "attachments": {},
   "cell_type": "markdown",
   "metadata": {},
   "source": [
    "### Feature: "
   ]
  },
  {
   "cell_type": "code",
   "execution_count": null,
   "metadata": {},
   "outputs": [],
   "source": []
  },
  {
   "attachments": {},
   "cell_type": "markdown",
   "metadata": {},
   "source": [
    "### Feature: "
   ]
  },
  {
   "cell_type": "code",
   "execution_count": null,
   "metadata": {},
   "outputs": [],
   "source": []
  },
  {
   "attachments": {},
   "cell_type": "markdown",
   "metadata": {},
   "source": [
    "### Feature: "
   ]
  },
  {
   "cell_type": "code",
   "execution_count": null,
   "metadata": {},
   "outputs": [],
   "source": []
  },
  {
   "attachments": {},
   "cell_type": "markdown",
   "metadata": {},
   "source": [
    "### Feature: "
   ]
  },
  {
   "cell_type": "code",
   "execution_count": null,
   "metadata": {},
   "outputs": [],
   "source": []
  },
  {
   "attachments": {},
   "cell_type": "markdown",
   "metadata": {},
   "source": [
    "### Feature: "
   ]
  },
  {
   "cell_type": "code",
   "execution_count": null,
   "metadata": {},
   "outputs": [],
   "source": []
  },
  {
   "attachments": {},
   "cell_type": "markdown",
   "metadata": {},
   "source": [
    "### Feature: "
   ]
  },
  {
   "cell_type": "code",
   "execution_count": null,
   "metadata": {},
   "outputs": [],
   "source": []
  },
  {
   "attachments": {},
   "cell_type": "markdown",
   "metadata": {},
   "source": [
    "### Feature: "
   ]
  },
  {
   "cell_type": "code",
   "execution_count": null,
   "metadata": {},
   "outputs": [],
   "source": []
  }
 ],
 "metadata": {
  "kernelspec": {
   "display_name": "tf",
   "language": "python",
   "name": "python3"
  },
  "language_info": {
   "codemirror_mode": {
    "name": "ipython",
    "version": 3
   },
   "file_extension": ".py",
   "mimetype": "text/x-python",
   "name": "python",
   "nbconvert_exporter": "python",
   "pygments_lexer": "ipython3",
   "version": "3.10.10"
  },
  "orig_nbformat": 4
 },
 "nbformat": 4,
 "nbformat_minor": 2
}
